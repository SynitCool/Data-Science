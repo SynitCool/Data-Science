{
 "cells": [
  {
   "cell_type": "code",
   "execution_count": null,
   "id": "4f2c156e",
   "metadata": {},
   "outputs": [],
   "source": [
    "import numpy as np\n",
    "import pandas as pd\n",
    "import cv2\n",
    "import functools\n",
    "\n",
    "import matplotlib.pyplot as plt\n",
    "\n",
    "from sklearn.preprocessing import MinMaxScaler\n",
    "from sklearn.preprocessing import LabelEncoder\n",
    "from sklearn.discriminant_analysis import LinearDiscriminantAnalysis\n",
    "\n",
    "from sklearn.svm import SVC\n",
    "from sklearn.ensemble import RandomForestClassifier\n",
    "from sklearn.tree import DecisionTreeClassifier\n",
    "from sklearn.neural_network import MLPClassifier\n",
    "\n",
    "from sklearn.model_selection import train_test_split\n",
    "\n",
    "from model_testing import ModelSelection\n",
    "from plotting import show_distribution\n",
    "from plot_val import calc_roc_curve, plot_roc_curve, plot_confusion_matrix\n",
    "\n",
    "from apply_processing import apply, resize_images, function_hsv, function_gray\n",
    "from apply_processing import function_label, blur_images, adjust_contrast_images, rotated_labels\n",
    "from apply_processing import filter_images, edge_images, contour_images, rotate_images"
   ]
  },
  {
   "cell_type": "code",
   "execution_count": null,
   "id": "4534817e",
   "metadata": {},
   "outputs": [],
   "source": [
    "df = pd.read_csv(\"Dataset\\\\images_mushrooms.csv\")\n",
    "\n",
    "df.head()"
   ]
  },
  {
   "cell_type": "code",
   "execution_count": null,
   "id": "24b87034",
   "metadata": {},
   "outputs": [],
   "source": [
    "df.info()"
   ]
  },
  {
   "cell_type": "code",
   "execution_count": null,
   "id": "77ebbd6a",
   "metadata": {},
   "outputs": [],
   "source": [
    "df['Label'].value_counts()"
   ]
  },
  {
   "cell_type": "markdown",
   "id": "ff83618f",
   "metadata": {},
   "source": [
    "# Processing the images"
   ]
  },
  {
   "cell_type": "markdown",
   "id": "36674695",
   "metadata": {},
   "source": [
    "## No Augmentation"
   ]
  },
  {
   "cell_type": "code",
   "execution_count": null,
   "id": "994e1fa5",
   "metadata": {},
   "outputs": [],
   "source": [
    "# Fixed contrast, brightness, sharpness\n",
    "\n",
    "def processing_noAug(df):\n",
    "    images = df['Image']\n",
    "    labels = df[\"Label\"]\n",
    "    \n",
    "    size = (150, 150)\n",
    "    \n",
    "    mod_images = function_hsv(images)\n",
    "    mod_images = resize_images(mod_images, size)\n",
    "    mod_images = filter_images(mod_images)\n",
    "    mod_images = adjust_contrast_images(mod_images, contrast=1.75, brightness=50)\n",
    "    mod_images = blur_images(mod_images)\n",
    "    \n",
    "    return mod_images, labels\n",
    "\n",
    "images_noAug, labels_noAug = processing_noAug(df)"
   ]
  },
  {
   "cell_type": "markdown",
   "id": "c3a906d0",
   "metadata": {},
   "source": [
    "## Augmentation function"
   ]
  },
  {
   "cell_type": "code",
   "execution_count": null,
   "id": "f3c11f7c",
   "metadata": {},
   "outputs": [],
   "source": [
    "# With Contour + Fixed contrast, brightness, sharpness\n",
    "\n",
    "def processing_contour(df):\n",
    "    images = df['Image']\n",
    "    labels = df['Label']\n",
    "    \n",
    "    size = (150, 150)\n",
    "    contrast = 1.75\n",
    "    brightness = 50\n",
    "    \n",
    "    images_hsv = function_hsv(images)\n",
    "    images_hsv = resize_images(images_hsv, size)\n",
    "    images_hsv = filter_images(images_hsv)\n",
    "    images_hsv = adjust_contrast_images(images_hsv, contrast=contrast, brightness=brightness)\n",
    "    images_hsv = blur_images(images_hsv)\n",
    "    \n",
    "    images_gray = function_gray(images)\n",
    "    images_gray = resize_images(images_gray, size)\n",
    "    images_gray = filter_images(images_gray)\n",
    "    images_gray = adjust_contrast_images(images_gray, contrast=contrast, brightness=brightness)\n",
    "    images_gray = blur_images(images_gray)\n",
    "    \n",
    "    edged_images = edge_images(images_gray)\n",
    "    \n",
    "    images_contour = contour_images(edged_images, images_hsv)\n",
    "    \n",
    "    return list(images_contour)"
   ]
  },
  {
   "cell_type": "code",
   "execution_count": null,
   "id": "c2c9565b",
   "metadata": {},
   "outputs": [],
   "source": [
    "# Random Contrast, Brightness, Sharpness\n",
    "\n",
    "def processing_random(df):\n",
    "    images = df['Image']\n",
    "    labels = df['Label']\n",
    "    \n",
    "    size = (150, 150)\n",
    "    contrast = np.random.randint(1, 5)\n",
    "    brightness = np.random.randint(-100, 100)\n",
    "    \n",
    "    images_hsv = function_hsv(images)\n",
    "    images_hsv = resize_images(images_hsv, size)\n",
    "    images_hsv = filter_images(images_hsv)\n",
    "    images_hsv = adjust_contrast_images(images_hsv, contrast=contrast, brightness=brightness)\n",
    "    images_hsv = blur_images(images_hsv)\n",
    "    \n",
    "    return list(images_hsv)"
   ]
  },
  {
   "cell_type": "code",
   "execution_count": null,
   "id": "9f0a52bb",
   "metadata": {},
   "outputs": [],
   "source": [
    "# Fixed contrast, brightness, sharpness\n",
    "\n",
    "def processing_fixed(df):\n",
    "    images = df['Image']\n",
    "    labels = df['Label']\n",
    "    \n",
    "    size = (150, 150)\n",
    "    contrast = 1.75\n",
    "    brightness = 50\n",
    "    \n",
    "    images_hsv = function_hsv(images)\n",
    "    images_hsv = resize_images(images_hsv, size)\n",
    "    images_hsv = filter_images(images_hsv)\n",
    "    images_hsv = adjust_contrast_images(images_hsv, contrast=contrast, brightness=brightness)\n",
    "    images_hsv = blur_images(images_hsv)\n",
    "    \n",
    "    return list(images_hsv)"
   ]
  },
  {
   "cell_type": "code",
   "execution_count": null,
   "id": "813c0334",
   "metadata": {},
   "outputs": [],
   "source": [
    "# Rotated and flipped images\n",
    "\n",
    "def processing_rotated(df):\n",
    "    images = df['Image']\n",
    "    labels = df['Label']\n",
    "    \n",
    "    size = (150, 150)\n",
    "    contrast = 1.75\n",
    "    brightness = 50\n",
    "    \n",
    "    images_hsv = function_hsv(images)\n",
    "    images_hsv = resize_images(images_hsv, size)\n",
    "    images_hsv = filter_images(images_hsv)\n",
    "    images_hsv = adjust_contrast_images(images_hsv, contrast=contrast, brightness=brightness)\n",
    "    images_hsv = blur_images(images_hsv)\n",
    "    images_hsv = rotate_images(images_hsv)\n",
    "    \n",
    "    return list(images_hsv)"
   ]
  },
  {
   "cell_type": "code",
   "execution_count": null,
   "id": "4acc3e8a",
   "metadata": {},
   "outputs": [],
   "source": [
    "functions = [processing_contour, processing_random, processing_fixed]\n",
    "labels = [function_label, function_label, function_label]\n",
    "\n",
    "images_aug, labels_aug = apply(functions, labels, df)"
   ]
  },
  {
   "cell_type": "markdown",
   "id": "90cc111c",
   "metadata": {},
   "source": [
    "# Images info"
   ]
  },
  {
   "cell_type": "code",
   "execution_count": null,
   "id": "fe8d5bf8",
   "metadata": {},
   "outputs": [],
   "source": [
    "print(f\"Length of images no augmentation {len(images_noAug)}\")\n",
    "print(f\"Length of images with augmentation {len(images_aug)}\")"
   ]
  },
  {
   "cell_type": "markdown",
   "id": "98abdb17",
   "metadata": {},
   "source": [
    "## Images info no augmentation"
   ]
  },
  {
   "cell_type": "code",
   "execution_count": null,
   "id": "f08b4ba0",
   "metadata": {},
   "outputs": [],
   "source": [
    "# show_distribution(images_noAug)"
   ]
  },
  {
   "cell_type": "markdown",
   "id": "6a8e2ac8",
   "metadata": {},
   "source": [
    "## Images info augmentation"
   ]
  },
  {
   "cell_type": "code",
   "execution_count": null,
   "id": "d1c24c8a",
   "metadata": {},
   "outputs": [],
   "source": [
    "# show_distribution(images_aug)"
   ]
  },
  {
   "cell_type": "markdown",
   "id": "577f681e",
   "metadata": {},
   "source": [
    "# Modelling with no augmentation"
   ]
  },
  {
   "cell_type": "markdown",
   "id": "5ae8e56a",
   "metadata": {},
   "source": [
    "## Reduction with LDA"
   ]
  },
  {
   "cell_type": "code",
   "execution_count": null,
   "id": "94ba2fc5",
   "metadata": {},
   "outputs": [],
   "source": [
    "scaler = MinMaxScaler()\n",
    "le = LabelEncoder()\n",
    "\n",
    "lda = LinearDiscriminantAnalysis()"
   ]
  },
  {
   "cell_type": "code",
   "execution_count": null,
   "id": "659b8e6a",
   "metadata": {},
   "outputs": [],
   "source": [
    "images = [np.ravel(image) for image in images_noAug]\n",
    "\n",
    "images_scaled = scaler.fit_transform(images)\n",
    "labels_encoded = le.fit_transform(df[\"Label\"])"
   ]
  },
  {
   "cell_type": "code",
   "execution_count": null,
   "id": "1f3c9ab1",
   "metadata": {},
   "outputs": [],
   "source": [
    "lda.fit(images_scaled, labels_encoded)\n",
    "images_lda = lda.transform(images_scaled)\n",
    "\n",
    "images_lda_df = pd.DataFrame(data=images_lda, columns=[\"First LDA\", \"Second LDA\", \"Third LDA\"])\n",
    "images_lda_df[\"Label\"] = le.inverse_transform(labels_encoded)"
   ]
  },
  {
   "cell_type": "code",
   "execution_count": null,
   "id": "f1b86192",
   "metadata": {},
   "outputs": [],
   "source": [
    "fig = plt.figure(figsize=(15,9))\n",
    "\n",
    "ax = fig.add_subplot(projection='3d')\n",
    "\n",
    "for label in images_lda_df[\"Label\"].unique():\n",
    "    first_lda = images_lda_df[images_lda_df[\"Label\"] == label][\"First LDA\"]\n",
    "    second_lda = images_lda_df[images_lda_df[\"Label\"] == label][\"Second LDA\"]\n",
    "    third_lda = images_lda_df[images_lda_df[\"Label\"] == label][\"Third LDA\"]\n",
    "    \n",
    "    ax.scatter(first_lda, second_lda, third_lda, label=label)\n",
    "    \n",
    "ax.legend()\n",
    "\n",
    "ax.set_xlabel(\"First LDA\")\n",
    "ax.set_ylabel(\"Second LDA\")\n",
    "ax.set_zlabel(\"Third LDA\")\n",
    "\n",
    "plt.show()"
   ]
  },
  {
   "cell_type": "markdown",
   "id": "5eb17f0a",
   "metadata": {},
   "source": [
    "## Modelling"
   ]
  },
  {
   "cell_type": "code",
   "execution_count": null,
   "id": "aae45d45",
   "metadata": {},
   "outputs": [],
   "source": [
    "X = images_pca_df.drop(columns=[\"Label\"])\n",
    "y = pd.Series(le.fit_transform(images_pca_df[\"Label\"]))"
   ]
  },
  {
   "cell_type": "markdown",
   "id": "8603919d",
   "metadata": {},
   "source": [
    "### Using train_test_split"
   ]
  },
  {
   "cell_type": "code",
   "execution_count": null,
   "id": "8fcd5c7a",
   "metadata": {},
   "outputs": [],
   "source": [
    "selection = ModelSelection(X, y, [RandomForestClassifier(), DecisionTreeClassifier(), MLPClassifier(), SVC()])"
   ]
  },
  {
   "cell_type": "code",
   "execution_count": null,
   "id": "7bcbb119",
   "metadata": {
    "scrolled": true
   },
   "outputs": [],
   "source": [
    "selection.use_train_test_split()"
   ]
  },
  {
   "cell_type": "markdown",
   "id": "b9c103f6",
   "metadata": {},
   "source": [
    "### Using StratifiedKFold"
   ]
  },
  {
   "cell_type": "code",
   "execution_count": null,
   "id": "331303d9",
   "metadata": {},
   "outputs": [],
   "source": [
    "selection = ModelSelection(X, y, [RandomForestClassifier(), DecisionTreeClassifier(), MLPClassifier(), SVC()])"
   ]
  },
  {
   "cell_type": "code",
   "execution_count": null,
   "id": "610f7a51",
   "metadata": {},
   "outputs": [],
   "source": [
    "selection.use_stratifiedkfold()"
   ]
  },
  {
   "cell_type": "markdown",
   "id": "f96ddbb3",
   "metadata": {},
   "source": [
    "## Evaluation"
   ]
  },
  {
   "cell_type": "code",
   "execution_count": null,
   "id": "fce4b5ca",
   "metadata": {},
   "outputs": [],
   "source": [
    "X_train, X_test, y_train, y_test = train_test_split(X, y, test_size=0.33, random_state=42)"
   ]
  },
  {
   "cell_type": "code",
   "execution_count": null,
   "id": "0ab817c8",
   "metadata": {},
   "outputs": [],
   "source": [
    "svm = SVC(probability=True)\n",
    "dtc = DecisionTreeClassifier()\n",
    "mlpc = MLPClassifier()\n",
    "rfc = RandomForestClassifier()"
   ]
  },
  {
   "cell_type": "code",
   "execution_count": null,
   "id": "0bd482c6",
   "metadata": {},
   "outputs": [],
   "source": [
    "svm.fit(X_train, y_train)\n",
    "dtc.fit(X_train, y_train)\n",
    "mlpc.fit(X_train, y_train)\n",
    "rfc.fit(X_train, y_train)"
   ]
  },
  {
   "cell_type": "markdown",
   "id": "5761c0e1",
   "metadata": {},
   "source": [
    "### ROC Curve and AUC"
   ]
  },
  {
   "cell_type": "code",
   "execution_count": null,
   "id": "2fddacc2",
   "metadata": {},
   "outputs": [],
   "source": [
    "svm_proba = svm.predict_proba(X_test)\n",
    "dtc_proba = dtc.predict_proba(X_test)\n",
    "mlpc_proba = mlpc.predict_proba(X_test)\n",
    "rfc_proba = rfc.predict_proba(X_test)"
   ]
  },
  {
   "cell_type": "code",
   "execution_count": null,
   "id": "e38f2215",
   "metadata": {},
   "outputs": [],
   "source": [
    "fprs_svm, tprs_svm, aucs_svm = calc_roc_curve(y_test, svm_proba)\n",
    "fprs_dtc, tprs_dtc, aucs_dtc = calc_roc_curve(y_test, dtc_proba)\n",
    "fprs_mlpc, tprs_mlpc, aucs_mlpc = calc_roc_curve(y_test, mlpc_proba)\n",
    "fprs_rfc, tprs_rfc, aucs_rfc = calc_roc_curve(y_test, rfc_proba)"
   ]
  },
  {
   "cell_type": "code",
   "execution_count": null,
   "id": "99d89206",
   "metadata": {},
   "outputs": [],
   "source": [
    "fig = plt.figure(figsize=(15, 9))\n",
    "\n",
    "plot_roc_curve(fprs_svm, tprs_svm, aucs_svm, \"SVC\")"
   ]
  },
  {
   "cell_type": "code",
   "execution_count": null,
   "id": "43b56b6d",
   "metadata": {},
   "outputs": [],
   "source": [
    "fig = plt.figure(figsize=(15, 9))\n",
    "\n",
    "plot_roc_curve(fprs_rfc, tprs_rfc, aucs_rfc, \"RF Classifier\")"
   ]
  },
  {
   "cell_type": "code",
   "execution_count": null,
   "id": "e3ee5f83",
   "metadata": {},
   "outputs": [],
   "source": [
    "fig = plt.figure(figsize=(15, 9))\n",
    "\n",
    "plot_roc_curve(fprs_mlpc, tprs_mlpc, aucs_mlpc, \"MLP Classifier\")"
   ]
  },
  {
   "cell_type": "code",
   "execution_count": null,
   "id": "51367183",
   "metadata": {},
   "outputs": [],
   "source": [
    "fig = plt.figure(figsize=(15, 9))\n",
    "\n",
    "plot_roc_curve(fprs_dtc, tprs_dtc, aucs_dtc, \"DT Classifier\")"
   ]
  },
  {
   "cell_type": "markdown",
   "id": "c02054c2",
   "metadata": {},
   "source": [
    "### Confusion Matrix"
   ]
  },
  {
   "cell_type": "code",
   "execution_count": null,
   "id": "e3ee16dc",
   "metadata": {},
   "outputs": [],
   "source": [
    "svm_pred = svm.predict(X_test)\n",
    "dtc_pred = dtc.predict(X_test)\n",
    "mlpc_pred = mlpc.predict(X_test)\n",
    "rfc_pred = rfc.predict(X_test)"
   ]
  },
  {
   "cell_type": "code",
   "execution_count": null,
   "id": "f96706ce",
   "metadata": {},
   "outputs": [],
   "source": [
    "fig = plt.figure(figsize=(15, 9))\n",
    "\n",
    "plot_confusion_matrix(df[\"Label\"], y_test, svm_pred, 'SVC')"
   ]
  },
  {
   "cell_type": "code",
   "execution_count": null,
   "id": "14cec9d6",
   "metadata": {},
   "outputs": [],
   "source": [
    "fig = plt.figure(figsize=(15, 9))\n",
    "\n",
    "plot_confusion_matrix(df[\"Label\"], y_test, dtc_pred, 'DT Classifier')"
   ]
  },
  {
   "cell_type": "code",
   "execution_count": null,
   "id": "c16505a5",
   "metadata": {},
   "outputs": [],
   "source": [
    "fig = plt.figure(figsize=(15, 9))\n",
    "\n",
    "plot_confusion_matrix(df[\"Label\"], y_test, mlpc_pred, 'MLP Classifier')"
   ]
  },
  {
   "cell_type": "code",
   "execution_count": null,
   "id": "11bd765b",
   "metadata": {},
   "outputs": [],
   "source": [
    "fig = plt.figure(figsize=(15, 9))\n",
    "\n",
    "plot_confusion_matrix(df[\"Label\"], y_test, rfc_pred, 'RF Classifier')"
   ]
  },
  {
   "cell_type": "markdown",
   "id": "5f801036",
   "metadata": {},
   "source": [
    "# Modelling with augmentation"
   ]
  },
  {
   "cell_type": "markdown",
   "id": "07694133",
   "metadata": {},
   "source": [
    "## Reduction with LDA"
   ]
  },
  {
   "cell_type": "code",
   "execution_count": null,
   "id": "8614800d",
   "metadata": {},
   "outputs": [],
   "source": [
    "scaler = MinMaxScaler()\n",
    "le = LabelEncoder()\n",
    "\n",
    "lda = LinearDiscriminantAnalysis()"
   ]
  },
  {
   "cell_type": "code",
   "execution_count": null,
   "id": "bb5de938",
   "metadata": {},
   "outputs": [],
   "source": [
    "images_aug = [np.ravel(image) for image in images_aug]\n",
    "\n",
    "images_scaled = scaler.fit_transform(images_aug)\n",
    "labels_encoded = le.fit_transform(labels_aug)"
   ]
  },
  {
   "cell_type": "code",
   "execution_count": null,
   "id": "f9407050",
   "metadata": {},
   "outputs": [],
   "source": [
    "lda.fit(images_scaled, labels_encoded)\n",
    "\n",
    "images_lda = lda.transform(images_scaled)\n",
    "\n",
    "images_lda_df = pd.DataFrame(data=images_lda, columns=[\"First LDA\", \"Second LDA\", \"Third LDA\"])\n",
    "images_lda_df[\"Label\"] = le.inverse_transform(labels_encoded)"
   ]
  },
  {
   "cell_type": "code",
   "execution_count": null,
   "id": "da1f7f1a",
   "metadata": {},
   "outputs": [],
   "source": [
    "fig = plt.figure(figsize=(15,9))\n",
    "\n",
    "ax = fig.add_subplot(projection='3d')\n",
    "\n",
    "for label in images_lda_df[\"Label\"].unique():\n",
    "    first_lda = images_lda_df[images_lda_df[\"Label\"] == label][\"First LDA\"]\n",
    "    second_lda = images_lda_df[images_lda_df[\"Label\"] == label][\"Second LDA\"]\n",
    "    third_lda = images_lda_df[images_lda_df[\"Label\"] == label][\"Third LDA\"]\n",
    "    \n",
    "    ax.scatter(first_lda, second_lda, third_lda, label=label)\n",
    "    \n",
    "ax.legend()\n",
    "\n",
    "ax.set_xlabel(\"First LDA\")\n",
    "ax.set_ylabel(\"Second LDA\")\n",
    "ax.set_zlabel(\"Third LDA\")\n",
    "\n",
    "plt.show()"
   ]
  },
  {
   "cell_type": "markdown",
   "id": "8b55dee5",
   "metadata": {},
   "source": [
    "## Modelling"
   ]
  },
  {
   "cell_type": "code",
   "execution_count": null,
   "id": "8058f74c",
   "metadata": {},
   "outputs": [],
   "source": [
    "X = images_pca_df.drop(columns=[\"Label\"])\n",
    "y = pd.Series(le.fit_transform(images_pca_df[\"Label\"]))"
   ]
  },
  {
   "cell_type": "markdown",
   "id": "57e0b178",
   "metadata": {},
   "source": [
    "### Using train_test_split"
   ]
  },
  {
   "cell_type": "code",
   "execution_count": null,
   "id": "e2d530c5",
   "metadata": {},
   "outputs": [],
   "source": [
    "selection = ModelSelection(X, y, [RandomForestClassifier(), DecisionTreeClassifier(), MLPClassifier(), SVC()])"
   ]
  },
  {
   "cell_type": "code",
   "execution_count": null,
   "id": "5d79eda3",
   "metadata": {
    "scrolled": true
   },
   "outputs": [],
   "source": [
    "selection.use_train_test_split()"
   ]
  },
  {
   "cell_type": "markdown",
   "id": "d6405e7b",
   "metadata": {},
   "source": [
    "### Using StratifiedKFold"
   ]
  },
  {
   "cell_type": "code",
   "execution_count": null,
   "id": "698a5cca",
   "metadata": {},
   "outputs": [],
   "source": [
    "selection = ModelSelection(X, y, [RandomForestClassifier(), DecisionTreeClassifier(), MLPClassifier(), SVC()])"
   ]
  },
  {
   "cell_type": "code",
   "execution_count": null,
   "id": "9be0fbe8",
   "metadata": {},
   "outputs": [],
   "source": [
    "selection.use_stratifiedkfold()"
   ]
  },
  {
   "cell_type": "markdown",
   "id": "1dff096e",
   "metadata": {},
   "source": [
    "## Evaluation"
   ]
  },
  {
   "cell_type": "code",
   "execution_count": null,
   "id": "b1154e19",
   "metadata": {},
   "outputs": [],
   "source": [
    "X_train, X_test, y_train, y_test = train_test_split(X, y, test_size=0.33, random_state=42)"
   ]
  },
  {
   "cell_type": "code",
   "execution_count": null,
   "id": "cd46ecbd",
   "metadata": {},
   "outputs": [],
   "source": [
    "svm = SVC(probability=True)\n",
    "dtc = DecisionTreeClassifier()\n",
    "mlpc = MLPClassifier()\n",
    "rfc = RandomForestClassifier()"
   ]
  },
  {
   "cell_type": "code",
   "execution_count": null,
   "id": "230edcd0",
   "metadata": {},
   "outputs": [],
   "source": [
    "svm.fit(X_train, y_train)\n",
    "dtc.fit(X_train, y_train)\n",
    "mlpc.fit(X_train, y_train)\n",
    "rfc.fit(X_train, y_train)"
   ]
  },
  {
   "cell_type": "markdown",
   "id": "c6a73939",
   "metadata": {},
   "source": [
    "### ROC Curve and AUC"
   ]
  },
  {
   "cell_type": "code",
   "execution_count": null,
   "id": "0c5a6742",
   "metadata": {},
   "outputs": [],
   "source": [
    "svm_proba = svm.predict_proba(X_test)\n",
    "dtc_proba = dtc.predict_proba(X_test)\n",
    "mlpc_proba = mlpc.predict_proba(X_test)\n",
    "rfc_proba = rfc.predict_proba(X_test)"
   ]
  },
  {
   "cell_type": "code",
   "execution_count": null,
   "id": "f89d6054",
   "metadata": {},
   "outputs": [],
   "source": [
    "fprs_svm, tprs_svm, aucs_svm = calc_roc_curve(y_test, svm_proba)\n",
    "fprs_dtc, tprs_dtc, aucs_dtc = calc_roc_curve(y_test, dtc_proba)\n",
    "fprs_mlpc, tprs_mlpc, aucs_mlpc = calc_roc_curve(y_test, mlpc_proba)\n",
    "fprs_rfc, tprs_rfc, aucs_rfc = calc_roc_curve(y_test, rfc_proba)"
   ]
  },
  {
   "cell_type": "code",
   "execution_count": null,
   "id": "0bd22afd",
   "metadata": {},
   "outputs": [],
   "source": [
    "fig = plt.figure(figsize=(15, 9))\n",
    "\n",
    "plot_roc_curve(fprs_svm, tprs_svm, aucs_svm, \"SVC\")"
   ]
  },
  {
   "cell_type": "code",
   "execution_count": null,
   "id": "9528606b",
   "metadata": {},
   "outputs": [],
   "source": [
    "fig = plt.figure(figsize=(15, 9))\n",
    "\n",
    "plot_roc_curve(fprs_dtc, tprs_dtc, aucs_dtc, \"DT Classifier\")"
   ]
  },
  {
   "cell_type": "code",
   "execution_count": null,
   "id": "597ddc27",
   "metadata": {},
   "outputs": [],
   "source": [
    "fig = plt.figure(figsize=(15, 9))\n",
    "\n",
    "plot_roc_curve(fprs_mlpc, tprs_mlpc, aucs_mlpc, \"MLP Classifier\")"
   ]
  },
  {
   "cell_type": "code",
   "execution_count": null,
   "id": "99b1ab4f",
   "metadata": {},
   "outputs": [],
   "source": [
    "fig = plt.figure(figsize=(15, 9))\n",
    "\n",
    "plot_roc_curve(fprs_rfc, tprs_rfc, aucs_rfc, \"RF Classifier\")"
   ]
  },
  {
   "cell_type": "markdown",
   "id": "eabc2bf0",
   "metadata": {},
   "source": [
    "### Confusion Matrix"
   ]
  },
  {
   "cell_type": "code",
   "execution_count": null,
   "id": "2201849f",
   "metadata": {},
   "outputs": [],
   "source": [
    "svm_pred = svm.predict(X_test)\n",
    "dtc_pred = dtc.predict(X_test)\n",
    "mlpc_pred = mlpc.predict(X_test)\n",
    "rfc_pred = rfc.predict(X_test)"
   ]
  },
  {
   "cell_type": "code",
   "execution_count": null,
   "id": "6b713027",
   "metadata": {},
   "outputs": [],
   "source": [
    "fig = plt.figure(figsize=(15, 9))\n",
    "\n",
    "plot_confusion_matrix(df[\"Label\"], y_test, svm_pred, 'SVC')"
   ]
  },
  {
   "cell_type": "code",
   "execution_count": null,
   "id": "9d96d1a6",
   "metadata": {},
   "outputs": [],
   "source": [
    "fig = plt.figure(figsize=(15, 9))\n",
    "\n",
    "plot_confusion_matrix(df[\"Label\"], y_test, dtc_pred, 'DT Classifier')"
   ]
  },
  {
   "cell_type": "code",
   "execution_count": null,
   "id": "50e63eb2",
   "metadata": {},
   "outputs": [],
   "source": [
    "fig = plt.figure(figsize=(15, 9))\n",
    "\n",
    "plot_confusion_matrix(df[\"Label\"], y_test, mlpc_pred, 'MLP Classifier')"
   ]
  },
  {
   "cell_type": "code",
   "execution_count": null,
   "id": "1ec4ca70",
   "metadata": {},
   "outputs": [],
   "source": [
    "fig = plt.figure(figsize=(15, 9))\n",
    "\n",
    "plot_confusion_matrix(df[\"Label\"], y_test, rfc_pred, 'RF Classifier')"
   ]
  }
 ],
 "metadata": {
  "kernelspec": {
   "display_name": "Python 3",
   "language": "python",
   "name": "python3"
  },
  "language_info": {
   "codemirror_mode": {
    "name": "ipython",
    "version": 3
   },
   "file_extension": ".py",
   "mimetype": "text/x-python",
   "name": "python",
   "nbconvert_exporter": "python",
   "pygments_lexer": "ipython3",
   "version": "3.8.8"
  }
 },
 "nbformat": 4,
 "nbformat_minor": 5
}
