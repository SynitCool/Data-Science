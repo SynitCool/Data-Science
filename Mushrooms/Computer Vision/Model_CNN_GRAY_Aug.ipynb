{
 "cells": [
  {
   "cell_type": "code",
   "execution_count": 1,
   "id": "92a3d9c7",
   "metadata": {},
   "outputs": [],
   "source": [
    "import pandas as pd\n",
    "import numpy as np\n",
    "import cv2\n",
    "import os\n",
    "\n",
    "import tensorflow as tf\n",
    "from tensorflow.keras import models, layers, datasets\n",
    "\n",
    "from sklearn.preprocessing import LabelEncoder\n",
    "from sklearn.model_selection import train_test_split\n",
    "from sklearn.preprocessing import MinMaxScaler\n",
    "\n",
    "import matplotlib.pyplot as plt\n",
    "import seaborn as sns\n",
    "\n",
    "from plotting import show_distribution\n",
    "from plot_val import calc_roc_curve, plot_roc_curve, plot_confusion_matrix\n",
    "\n",
    "from apply_processing import apply, resize_images, function_gray, threshold_images\n",
    "from apply_processing import function_label, blur_images, adjust_contrast_images, rotated_labels\n",
    "from apply_processing import filter_images, edge_images, contour_images, rotate_images"
   ]
  },
  {
   "cell_type": "code",
   "execution_count": 2,
   "id": "e8341830",
   "metadata": {},
   "outputs": [
    {
     "name": "stdout",
     "output_type": "stream",
     "text": [
      "Nums GPUs available : 1\n"
     ]
    }
   ],
   "source": [
    "physical_devices = tf.config.experimental.list_physical_devices('GPU')\n",
    "print(f\"Nums GPUs available : {len(physical_devices)}\")\n",
    "\n",
    "tf.config.experimental.set_memory_growth(physical_devices[0], True)"
   ]
  },
  {
   "cell_type": "code",
   "execution_count": 3,
   "id": "871994f6",
   "metadata": {},
   "outputs": [
    {
     "data": {
      "text/html": [
       "<div>\n",
       "<style scoped>\n",
       "    .dataframe tbody tr th:only-of-type {\n",
       "        vertical-align: middle;\n",
       "    }\n",
       "\n",
       "    .dataframe tbody tr th {\n",
       "        vertical-align: top;\n",
       "    }\n",
       "\n",
       "    .dataframe thead th {\n",
       "        text-align: right;\n",
       "    }\n",
       "</style>\n",
       "<table border=\"1\" class=\"dataframe\">\n",
       "  <thead>\n",
       "    <tr style=\"text-align: right;\">\n",
       "      <th></th>\n",
       "      <th>Image</th>\n",
       "      <th>Label</th>\n",
       "    </tr>\n",
       "  </thead>\n",
       "  <tbody>\n",
       "    <tr>\n",
       "      <th>0</th>\n",
       "      <td>Dataset\\Mushrooms\\Agaricus\\009_mrv34Sn4WiQ.jpg</td>\n",
       "      <td>Agaricus</td>\n",
       "    </tr>\n",
       "    <tr>\n",
       "      <th>1</th>\n",
       "      <td>Dataset\\Mushrooms\\Agaricus\\010_Rk1D3EG856g.jpg</td>\n",
       "      <td>Agaricus</td>\n",
       "    </tr>\n",
       "    <tr>\n",
       "      <th>2</th>\n",
       "      <td>Dataset\\Mushrooms\\Agaricus\\017_QHGfbEiWvq8.jpg</td>\n",
       "      <td>Agaricus</td>\n",
       "    </tr>\n",
       "    <tr>\n",
       "      <th>3</th>\n",
       "      <td>Dataset\\Mushrooms\\Agaricus\\020_vZJfrjIwmqU.jpg</td>\n",
       "      <td>Agaricus</td>\n",
       "    </tr>\n",
       "    <tr>\n",
       "      <th>4</th>\n",
       "      <td>Dataset\\Mushrooms\\Agaricus\\030_-i6kYqDvBQo.jpg</td>\n",
       "      <td>Agaricus</td>\n",
       "    </tr>\n",
       "  </tbody>\n",
       "</table>\n",
       "</div>"
      ],
      "text/plain": [
       "                                            Image     Label\n",
       "0  Dataset\\Mushrooms\\Agaricus\\009_mrv34Sn4WiQ.jpg  Agaricus\n",
       "1  Dataset\\Mushrooms\\Agaricus\\010_Rk1D3EG856g.jpg  Agaricus\n",
       "2  Dataset\\Mushrooms\\Agaricus\\017_QHGfbEiWvq8.jpg  Agaricus\n",
       "3  Dataset\\Mushrooms\\Agaricus\\020_vZJfrjIwmqU.jpg  Agaricus\n",
       "4  Dataset\\Mushrooms\\Agaricus\\030_-i6kYqDvBQo.jpg  Agaricus"
      ]
     },
     "execution_count": 3,
     "metadata": {},
     "output_type": "execute_result"
    }
   ],
   "source": [
    "df = pd.read_csv(\"Dataset\\\\images_mushrooms.csv\")\n",
    "\n",
    "df.head()"
   ]
  },
  {
   "cell_type": "code",
   "execution_count": 4,
   "id": "2da0089f",
   "metadata": {},
   "outputs": [
    {
     "name": "stdout",
     "output_type": "stream",
     "text": [
      "<class 'pandas.core.frame.DataFrame'>\n",
      "RangeIndex: 900 entries, 0 to 899\n",
      "Data columns (total 2 columns):\n",
      " #   Column  Non-Null Count  Dtype \n",
      "---  ------  --------------  ----- \n",
      " 0   Image   900 non-null    object\n",
      " 1   Label   900 non-null    object\n",
      "dtypes: object(2)\n",
      "memory usage: 14.2+ KB\n"
     ]
    }
   ],
   "source": [
    "df.info()"
   ]
  },
  {
   "cell_type": "code",
   "execution_count": 5,
   "id": "75f59628",
   "metadata": {},
   "outputs": [
    {
     "data": {
      "text/plain": [
       "Agaricus       0.111111\n",
       "Amanita        0.111111\n",
       "Suillus        0.111111\n",
       "Russula        0.111111\n",
       "Boletus        0.111111\n",
       "Entoloma       0.111111\n",
       "Cortinarius    0.111111\n",
       "Lactarius      0.111111\n",
       "Hygrocybe      0.111111\n",
       "Name: Label, dtype: float64"
      ]
     },
     "execution_count": 5,
     "metadata": {},
     "output_type": "execute_result"
    }
   ],
   "source": [
    "df['Label'].value_counts() / df.shape[0]"
   ]
  },
  {
   "cell_type": "markdown",
   "id": "77cba993",
   "metadata": {},
   "source": [
    "# Processing the images"
   ]
  },
  {
   "cell_type": "code",
   "execution_count": 6,
   "id": "586f0a78",
   "metadata": {},
   "outputs": [],
   "source": [
    "# Canny + fixed contrast & brightness\n",
    "\n",
    "def processing_canny(df):\n",
    "    images = df['Image']\n",
    "    \n",
    "    size = (150, 150)\n",
    "    contrast = 1.75\n",
    "    brightness = 20\n",
    "    \n",
    "    mod_images = function_gray(images)\n",
    "    mod_images = resize_images(mod_images, size)\n",
    "    mod_images = filter_images(mod_images)\n",
    "    mod_images = adjust_contrast_images(mod_images, contrast=contrast, brightness=brightness)\n",
    "    mod_images = blur_images(mod_images)\n",
    "    mod_images = edge_images(mod_images, edge=cv2.Canny)\n",
    "    \n",
    "    return list(mod_images)"
   ]
  },
  {
   "cell_type": "code",
   "execution_count": 7,
   "id": "86868e93",
   "metadata": {},
   "outputs": [],
   "source": [
    "# Threshold otsu + fixed contrast & brightness\n",
    "\n",
    "def processing_threshold(df):\n",
    "    images = df['Image']\n",
    "    \n",
    "    size = (150, 150)\n",
    "    contrast = 1.75\n",
    "    brightness = 20\n",
    "    \n",
    "    mod_images = function_gray(images)\n",
    "    mod_images = resize_images(mod_images, size)\n",
    "    mod_images = filter_images(mod_images)\n",
    "    mod_images = adjust_contrast_images(mod_images, contrast=contrast, brightness=brightness)\n",
    "    mod_images = blur_images(mod_images)\n",
    "    \n",
    "    mod_images = threshold_images(mod_images, threshold_type=cv2.THRESH_BINARY-cv2.THRESH_OTSU)\n",
    "    \n",
    "    return list(mod_images)"
   ]
  },
  {
   "cell_type": "code",
   "execution_count": 8,
   "id": "788577da",
   "metadata": {},
   "outputs": [],
   "source": [
    "# Laplacian + fixed contrast & brightness\n",
    "\n",
    "def processing_laplacian(df):\n",
    "    images = df['Image']\n",
    "    \n",
    "    size = (150, 150)\n",
    "    contrast = 1.75\n",
    "    brightness = 20\n",
    "    \n",
    "    mod_images = function_gray(images)\n",
    "    mod_images = resize_images(mod_images, size)\n",
    "    mod_images = filter_images(mod_images)\n",
    "    mod_images = adjust_contrast_images(mod_images, contrast=contrast, brightness=brightness)\n",
    "    mod_images = blur_images(mod_images)\n",
    "    mod_images = edge_images(mod_images, edge=cv2.Laplacian, ddepth=50)\n",
    "    \n",
    "    return list(mod_images)"
   ]
  },
  {
   "cell_type": "code",
   "execution_count": 9,
   "id": "6bfee54a",
   "metadata": {},
   "outputs": [],
   "source": [
    "# Sobelx + fixed contrast & brightness\n",
    "\n",
    "def processing_sobelx(df):\n",
    "    images = df['Image']\n",
    "    \n",
    "    size = (150, 150)\n",
    "    contrast = 1.75\n",
    "    brightness = 20\n",
    "    \n",
    "    mod_images = function_gray(images)\n",
    "    mod_images = resize_images(mod_images, size)\n",
    "    mod_images = filter_images(mod_images)\n",
    "    mod_images = adjust_contrast_images(mod_images, contrast=contrast, brightness=brightness)\n",
    "    mod_images = blur_images(mod_images)\n",
    "    mod_images = edge_images(mod_images, edge=cv2.Sobel, dx=1)\n",
    "    \n",
    "    return list(mod_images)"
   ]
  },
  {
   "cell_type": "code",
   "execution_count": 10,
   "id": "9bde2e28",
   "metadata": {},
   "outputs": [],
   "source": [
    "# Sobely + fixed contrast & brightness\n",
    "\n",
    "def processing_sobely(df):\n",
    "    images = df['Image']\n",
    "    \n",
    "    size = (150, 150)\n",
    "    contrast = 1.75\n",
    "    brightness = 20\n",
    "    \n",
    "    mod_images = function_gray(images)\n",
    "    mod_images = resize_images(mod_images, size)\n",
    "    mod_images = filter_images(mod_images)\n",
    "    mod_images = adjust_contrast_images(mod_images, contrast=contrast, brightness=brightness)\n",
    "    mod_images = blur_images(mod_images)\n",
    "    mod_images = edge_images(mod_images, edge=cv2.Sobel, dy=1)\n",
    "    \n",
    "    return list(mod_images)"
   ]
  },
  {
   "cell_type": "code",
   "execution_count": 11,
   "id": "42b9d883",
   "metadata": {},
   "outputs": [],
   "source": [
    "# Sobelxy + fixed contrast & brightness\n",
    "\n",
    "def processing_sobelxy(df):\n",
    "    images = df['Image']\n",
    "    \n",
    "    size = (150, 150)\n",
    "    contrast = 1.75\n",
    "    brightness = 20\n",
    "    \n",
    "    mod_images = function_gray(images)\n",
    "    mod_images = resize_images(mod_images, size)\n",
    "    mod_images = filter_images(mod_images)\n",
    "    mod_images = adjust_contrast_images(mod_images, contrast=contrast, brightness=brightness)\n",
    "    mod_images = blur_images(mod_images)\n",
    "    mod_images = edge_images(mod_images, edge=cv2.Sobel, dx=1, dy=1)\n",
    "    \n",
    "    return list(mod_images)"
   ]
  },
  {
   "cell_type": "code",
   "execution_count": 12,
   "id": "bb2a03ae",
   "metadata": {},
   "outputs": [],
   "source": [
    "# Fixed contrast & brightness\n",
    "\n",
    "def processing_fixed(df):\n",
    "    images = df['Image']\n",
    "    \n",
    "    size = (150, 150)\n",
    "    contrast = 1.75\n",
    "    brightness = 20\n",
    "    \n",
    "    mod_images = function_gray(images)\n",
    "    mod_images = resize_images(mod_images, size)\n",
    "    mod_images = filter_images(mod_images)\n",
    "    mod_images = adjust_contrast_images(mod_images, contrast=contrast, brightness=brightness)\n",
    "    mod_images = blur_images(mod_images)\n",
    "    \n",
    "    return list(mod_images)"
   ]
  },
  {
   "cell_type": "code",
   "execution_count": 13,
   "id": "b3cb0f3f",
   "metadata": {},
   "outputs": [],
   "source": [
    "# Random contrast & brightness\n",
    "\n",
    "def processing_random(df):\n",
    "    images = df['Image']\n",
    "    \n",
    "    size = (150, 150)\n",
    "    contrast = np.random.randint(1, 5)\n",
    "    brightness = np.random.randint(-100, 100)\n",
    "    \n",
    "    mod_images = function_gray(images)\n",
    "    mod_images = resize_images(mod_images, size)\n",
    "    mod_images = filter_images(mod_images)\n",
    "    mod_images = adjust_contrast_images(mod_images, contrast=contrast, brightness=brightness)\n",
    "    mod_images = blur_images(mod_images)\n",
    "    \n",
    "    return list(mod_images)"
   ]
  },
  {
   "cell_type": "code",
   "execution_count": 14,
   "id": "656f12c9",
   "metadata": {},
   "outputs": [
    {
     "name": "stderr",
     "output_type": "stream",
     "text": [
      "C:\\Users\\Bina Umat\\Desktop\\Python\\Data Science\\Kaggle Dataset\\Mushrooms Classification\\Computer Vision\\apply_processing.py:157: VisibleDeprecationWarning: Creating an ndarray from ragged nested sequences (which is a list-or-tuple of lists-or-tuples-or ndarrays with different lengths or shapes) is deprecated. If you meant to do this, you must specify 'dtype=object' when creating the ndarray\n",
      "  thresh = np.array(thresh_images)[:, 0]\n",
      "C:\\Users\\Bina Umat\\Desktop\\Python\\Data Science\\Kaggle Dataset\\Mushrooms Classification\\Computer Vision\\apply_processing.py:158: VisibleDeprecationWarning: Creating an ndarray from ragged nested sequences (which is a list-or-tuple of lists-or-tuples-or ndarrays with different lengths or shapes) is deprecated. If you meant to do this, you must specify 'dtype=object' when creating the ndarray\n",
      "  mod_images = np.array(thresh_images)[:, 1]\n"
     ]
    }
   ],
   "source": [
    "functions = [processing_canny, processing_threshold, processing_laplacian, \n",
    "             processing_sobelx, processing_sobely, processing_sobelxy, \n",
    "             processing_fixed, processing_random]\n",
    "\n",
    "labels = [function_label, function_label, function_label, \n",
    "          function_label, function_label, function_label, \n",
    "          function_label, function_label]\n",
    "\n",
    "images_aug, labels_aug = apply(functions, labels, df)"
   ]
  },
  {
   "cell_type": "markdown",
   "id": "d7a38b15",
   "metadata": {},
   "source": [
    "# Images info"
   ]
  },
  {
   "cell_type": "code",
   "execution_count": 15,
   "id": "4cb00b0b",
   "metadata": {},
   "outputs": [
    {
     "name": "stdout",
     "output_type": "stream",
     "text": [
      "Length of images no augmentation 7200\n",
      "Length of labels no augmentation 7200\n"
     ]
    }
   ],
   "source": [
    "print(f\"Length of images no augmentation {len(images_aug)}\")\n",
    "print(f\"Length of labels no augmentation {len(labels_aug)}\")"
   ]
  },
  {
   "cell_type": "markdown",
   "id": "6417df7d",
   "metadata": {},
   "source": [
    "## Distribution"
   ]
  },
  {
   "cell_type": "code",
   "execution_count": 16,
   "id": "d4a382de",
   "metadata": {},
   "outputs": [],
   "source": [
    "# show_distribution(images_noAug)"
   ]
  },
  {
   "cell_type": "markdown",
   "id": "a8db32ff",
   "metadata": {},
   "source": [
    "# Modelling"
   ]
  },
  {
   "cell_type": "code",
   "execution_count": 17,
   "id": "ccd12b66",
   "metadata": {},
   "outputs": [],
   "source": [
    "# le = LabelEncoder()\n",
    "# le.fit(labels)"
   ]
  },
  {
   "cell_type": "code",
   "execution_count": 18,
   "id": "c604088b",
   "metadata": {},
   "outputs": [],
   "source": [
    "# labels = le.transform(labels_noAug)\n",
    "# images = images_noAug / 255.0"
   ]
  },
  {
   "cell_type": "code",
   "execution_count": 19,
   "id": "b4dc6e0a",
   "metadata": {},
   "outputs": [],
   "source": [
    "# X_train, X_test, y_train, y_test = train_test_split(images, labels, test_size=0.33, random_state=42)"
   ]
  },
  {
   "cell_type": "code",
   "execution_count": 20,
   "id": "2fc1233d",
   "metadata": {},
   "outputs": [],
   "source": [
    "# model = models.Sequential()\n",
    "# model.add(layers.Conv2D(128, (3, 3), activation='relu', input_shape=(150, 150, 1)))\n",
    "# model.add(layers.MaxPooling2D((3,3)))\n",
    "# model.add(layers.Conv2D(64, (3, 3), activation='relu'))\n",
    "# model.add(layers.MaxPooling2D((3,3)))\n",
    "# model.add(layers.Conv2D(32, (3,3), activation='relu'))"
   ]
  },
  {
   "cell_type": "code",
   "execution_count": 21,
   "id": "d170d760",
   "metadata": {},
   "outputs": [],
   "source": [
    "# model.summary()"
   ]
  },
  {
   "cell_type": "code",
   "execution_count": 22,
   "id": "bf9b5b80",
   "metadata": {},
   "outputs": [],
   "source": [
    "# model.add(layers.Flatten())\n",
    "# model.add(layers.Dense(128, activation='sigmoid'))\n",
    "# model.add(layers.Dense(4))"
   ]
  },
  {
   "cell_type": "code",
   "execution_count": 23,
   "id": "17ba8005",
   "metadata": {},
   "outputs": [],
   "source": [
    "# model.summary()"
   ]
  },
  {
   "cell_type": "code",
   "execution_count": 24,
   "id": "753ab9d6",
   "metadata": {},
   "outputs": [],
   "source": [
    "# adam_callback = tf.keras.callbacks.TensorBoard(log_dir='CNN_board/adam', histogram_freq=1)\n",
    "# sgd_callback = tf.keras.callbacks.TensorBoard(log_dir='CNN_board/sgd', histogram_freq=1)\n",
    "\n",
    "# model.compile(optimizer='adam',\n",
    "#               loss=tf.keras.losses.SparseCategoricalCrossentropy(from_logits=True),\n",
    "#               metrics=['accuracy'])"
   ]
  },
  {
   "cell_type": "code",
   "execution_count": 25,
   "id": "007f3cd8",
   "metadata": {},
   "outputs": [],
   "source": [
    "# model_training = model.fit(X_train, y_train, epochs=6, \n",
    "#                            validation_data=(X_test, y_test), batch_size=32)"
   ]
  },
  {
   "cell_type": "code",
   "execution_count": 26,
   "id": "cae15323",
   "metadata": {},
   "outputs": [],
   "source": [
    "# model.evaluate(X_test, y_test)"
   ]
  },
  {
   "cell_type": "markdown",
   "id": "28c5e1be",
   "metadata": {},
   "source": [
    "## Evaluation"
   ]
  },
  {
   "cell_type": "markdown",
   "id": "07136fd2",
   "metadata": {},
   "source": [
    "### ROC and AUC"
   ]
  },
  {
   "cell_type": "code",
   "execution_count": 27,
   "id": "eff4416f",
   "metadata": {},
   "outputs": [],
   "source": [
    "# model_proba = model.predict(X_test)"
   ]
  },
  {
   "cell_type": "code",
   "execution_count": 28,
   "id": "302b5894",
   "metadata": {},
   "outputs": [],
   "source": [
    "# fprs, tprs, aucs = calc_roc_curve(y_test, model_proba)"
   ]
  },
  {
   "cell_type": "code",
   "execution_count": 29,
   "id": "1feb1183",
   "metadata": {},
   "outputs": [],
   "source": [
    "# fig, ax = plt.subplots(figsize=(15,9))\n",
    "\n",
    "# plot_roc_curve(fprs, tprs, aucs, \"CNN\")"
   ]
  },
  {
   "cell_type": "markdown",
   "id": "420de362",
   "metadata": {},
   "source": [
    "### Confusion Matrix"
   ]
  },
  {
   "cell_type": "code",
   "execution_count": 30,
   "id": "c8a37b61",
   "metadata": {},
   "outputs": [],
   "source": [
    "# model_pred = np.argmax(model.predict(X_test), axis=1)"
   ]
  },
  {
   "cell_type": "code",
   "execution_count": 31,
   "id": "781531ef",
   "metadata": {},
   "outputs": [],
   "source": [
    "# fig, ax = plt.subplots(figsize=(15, 9))\n",
    "\n",
    "# plot_confusion_matrix(le.inverse_transform(labels), y_test, model_pred, 'CNN')"
   ]
  }
 ],
 "metadata": {
  "kernelspec": {
   "display_name": "Python 3",
   "language": "python",
   "name": "python3"
  },
  "language_info": {
   "codemirror_mode": {
    "name": "ipython",
    "version": 3
   },
   "file_extension": ".py",
   "mimetype": "text/x-python",
   "name": "python",
   "nbconvert_exporter": "python",
   "pygments_lexer": "ipython3",
   "version": "3.8.8"
  }
 },
 "nbformat": 4,
 "nbformat_minor": 5
}
