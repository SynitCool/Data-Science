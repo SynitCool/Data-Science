{
 "cells": [
  {
   "cell_type": "markdown",
   "id": "20c5e041",
   "metadata": {},
   "source": [
    "# Quick Overview"
   ]
  },
  {
   "cell_type": "markdown",
   "id": "0ab4eec4",
   "metadata": {},
   "source": [
    "This notebook is used for classifying the type of mushrooms with CNN model or Basic CNN Architecture, for color space try using RGB for these images and using image augmentation to improve the accuracy, for the data using : \n",
    "- 900 Images for training\n",
    "- 450 Images for validation or testing\n",
    "- Total 1350\n",
    "\n",
    "For labels distribution is uniform distribution.\n",
    "\n",
    "----------------------------------------------------\n",
    "\n",
    "This notebook has been trained Basic CNN model architecture for 300 epochs"
   ]
  },
  {
   "cell_type": "code",
   "execution_count": 1,
   "id": "92a3d9c7",
   "metadata": {},
   "outputs": [],
   "source": [
    "import pandas as pd\n",
    "import numpy as np\n",
    "import cv2\n",
    "import os\n",
    "\n",
    "import tensorflow as tf\n",
    "from tensorflow.keras import models, layers, datasets\n",
    "from tensorflow.keras.preprocessing.image import ImageDataGenerator\n",
    "\n",
    "from sklearn.preprocessing import LabelEncoder\n",
    "from sklearn.model_selection import train_test_split\n",
    "from sklearn.preprocessing import MinMaxScaler\n",
    "\n",
    "import matplotlib.pyplot as plt\n",
    "import seaborn as sns\n",
    "\n",
    "from plotting import show_distribution\n",
    "from plot_val import calc_roc_curve, plot_roc_curve, plot_confusion_matrix\n",
    "\n",
    "from apply_processing import apply, resize_images, function_rgb, function_gray\n",
    "from apply_processing import function_label, blur_images, adjust_contrast_images, rotated_labels\n",
    "from apply_processing import filter_images, edge_images, contour_images, rotate_images, kmeans_images"
   ]
  },
  {
   "cell_type": "code",
   "execution_count": 2,
   "id": "e8341830",
   "metadata": {},
   "outputs": [
    {
     "name": "stdout",
     "output_type": "stream",
     "text": [
      "Nums GPUs available : 1\n"
     ]
    }
   ],
   "source": [
    "physical_devices = tf.config.experimental.list_physical_devices('GPU')\n",
    "print(f\"Nums GPUs available : {len(physical_devices)}\")\n",
    "\n",
    "tf.config.experimental.set_memory_growth(physical_devices[0], True)"
   ]
  },
  {
   "cell_type": "code",
   "execution_count": 3,
   "id": "871994f6",
   "metadata": {},
   "outputs": [
    {
     "data": {
      "text/html": [
       "<div>\n",
       "<style scoped>\n",
       "    .dataframe tbody tr th:only-of-type {\n",
       "        vertical-align: middle;\n",
       "    }\n",
       "\n",
       "    .dataframe tbody tr th {\n",
       "        vertical-align: top;\n",
       "    }\n",
       "\n",
       "    .dataframe thead th {\n",
       "        text-align: right;\n",
       "    }\n",
       "</style>\n",
       "<table border=\"1\" class=\"dataframe\">\n",
       "  <thead>\n",
       "    <tr style=\"text-align: right;\">\n",
       "      <th></th>\n",
       "      <th>Image</th>\n",
       "      <th>Label</th>\n",
       "    </tr>\n",
       "  </thead>\n",
       "  <tbody>\n",
       "    <tr>\n",
       "      <th>0</th>\n",
       "      <td>Dataset\\Mushrooms\\Agaricus\\009_mrv34Sn4WiQ.jpg</td>\n",
       "      <td>Agaricus</td>\n",
       "    </tr>\n",
       "    <tr>\n",
       "      <th>1</th>\n",
       "      <td>Dataset\\Mushrooms\\Agaricus\\010_Rk1D3EG856g.jpg</td>\n",
       "      <td>Agaricus</td>\n",
       "    </tr>\n",
       "    <tr>\n",
       "      <th>2</th>\n",
       "      <td>Dataset\\Mushrooms\\Agaricus\\017_QHGfbEiWvq8.jpg</td>\n",
       "      <td>Agaricus</td>\n",
       "    </tr>\n",
       "    <tr>\n",
       "      <th>3</th>\n",
       "      <td>Dataset\\Mushrooms\\Agaricus\\020_vZJfrjIwmqU.jpg</td>\n",
       "      <td>Agaricus</td>\n",
       "    </tr>\n",
       "    <tr>\n",
       "      <th>4</th>\n",
       "      <td>Dataset\\Mushrooms\\Agaricus\\030_-i6kYqDvBQo.jpg</td>\n",
       "      <td>Agaricus</td>\n",
       "    </tr>\n",
       "  </tbody>\n",
       "</table>\n",
       "</div>"
      ],
      "text/plain": [
       "                                            Image     Label\n",
       "0  Dataset\\Mushrooms\\Agaricus\\009_mrv34Sn4WiQ.jpg  Agaricus\n",
       "1  Dataset\\Mushrooms\\Agaricus\\010_Rk1D3EG856g.jpg  Agaricus\n",
       "2  Dataset\\Mushrooms\\Agaricus\\017_QHGfbEiWvq8.jpg  Agaricus\n",
       "3  Dataset\\Mushrooms\\Agaricus\\020_vZJfrjIwmqU.jpg  Agaricus\n",
       "4  Dataset\\Mushrooms\\Agaricus\\030_-i6kYqDvBQo.jpg  Agaricus"
      ]
     },
     "execution_count": 3,
     "metadata": {},
     "output_type": "execute_result"
    }
   ],
   "source": [
    "df = pd.read_csv(\"Dataset\\\\images_mushrooms.csv\")\n",
    "\n",
    "df.head()"
   ]
  },
  {
   "cell_type": "code",
   "execution_count": 4,
   "id": "753db75f",
   "metadata": {},
   "outputs": [
    {
     "data": {
      "text/html": [
       "<div>\n",
       "<style scoped>\n",
       "    .dataframe tbody tr th:only-of-type {\n",
       "        vertical-align: middle;\n",
       "    }\n",
       "\n",
       "    .dataframe tbody tr th {\n",
       "        vertical-align: top;\n",
       "    }\n",
       "\n",
       "    .dataframe thead th {\n",
       "        text-align: right;\n",
       "    }\n",
       "</style>\n",
       "<table border=\"1\" class=\"dataframe\">\n",
       "  <thead>\n",
       "    <tr style=\"text-align: right;\">\n",
       "      <th></th>\n",
       "      <th>Image</th>\n",
       "      <th>Label</th>\n",
       "    </tr>\n",
       "  </thead>\n",
       "  <tbody>\n",
       "    <tr>\n",
       "      <th>0</th>\n",
       "      <td>Dataset\\Test Mushrooms\\Agaricus\\006_1_E6AXBJqn...</td>\n",
       "      <td>Agaricus</td>\n",
       "    </tr>\n",
       "    <tr>\n",
       "      <th>1</th>\n",
       "      <td>Dataset\\Test Mushrooms\\Agaricus\\043_UPu2ng0N0z...</td>\n",
       "      <td>Agaricus</td>\n",
       "    </tr>\n",
       "    <tr>\n",
       "      <th>2</th>\n",
       "      <td>Dataset\\Test Mushrooms\\Agaricus\\053_MKIISBeGQF...</td>\n",
       "      <td>Agaricus</td>\n",
       "    </tr>\n",
       "    <tr>\n",
       "      <th>3</th>\n",
       "      <td>Dataset\\Test Mushrooms\\Agaricus\\055_Cggc3hvlPf...</td>\n",
       "      <td>Agaricus</td>\n",
       "    </tr>\n",
       "    <tr>\n",
       "      <th>4</th>\n",
       "      <td>Dataset\\Test Mushrooms\\Agaricus\\065_ca8G5lwf7C...</td>\n",
       "      <td>Agaricus</td>\n",
       "    </tr>\n",
       "  </tbody>\n",
       "</table>\n",
       "</div>"
      ],
      "text/plain": [
       "                                               Image     Label\n",
       "0  Dataset\\Test Mushrooms\\Agaricus\\006_1_E6AXBJqn...  Agaricus\n",
       "1  Dataset\\Test Mushrooms\\Agaricus\\043_UPu2ng0N0z...  Agaricus\n",
       "2  Dataset\\Test Mushrooms\\Agaricus\\053_MKIISBeGQF...  Agaricus\n",
       "3  Dataset\\Test Mushrooms\\Agaricus\\055_Cggc3hvlPf...  Agaricus\n",
       "4  Dataset\\Test Mushrooms\\Agaricus\\065_ca8G5lwf7C...  Agaricus"
      ]
     },
     "execution_count": 4,
     "metadata": {},
     "output_type": "execute_result"
    }
   ],
   "source": [
    "df_test = pd.read_csv(\"Dataset\\\\test_images_mushrooms.csv\")\n",
    "\n",
    "df_test.head()"
   ]
  },
  {
   "cell_type": "code",
   "execution_count": 5,
   "id": "2da0089f",
   "metadata": {},
   "outputs": [
    {
     "name": "stdout",
     "output_type": "stream",
     "text": [
      "<class 'pandas.core.frame.DataFrame'>\n",
      "RangeIndex: 900 entries, 0 to 899\n",
      "Data columns (total 2 columns):\n",
      " #   Column  Non-Null Count  Dtype \n",
      "---  ------  --------------  ----- \n",
      " 0   Image   900 non-null    object\n",
      " 1   Label   900 non-null    object\n",
      "dtypes: object(2)\n",
      "memory usage: 14.2+ KB\n"
     ]
    }
   ],
   "source": [
    "df.info()"
   ]
  },
  {
   "cell_type": "code",
   "execution_count": 6,
   "id": "3b1583f5",
   "metadata": {},
   "outputs": [
    {
     "name": "stdout",
     "output_type": "stream",
     "text": [
      "<class 'pandas.core.frame.DataFrame'>\n",
      "RangeIndex: 450 entries, 0 to 449\n",
      "Data columns (total 2 columns):\n",
      " #   Column  Non-Null Count  Dtype \n",
      "---  ------  --------------  ----- \n",
      " 0   Image   450 non-null    object\n",
      " 1   Label   450 non-null    object\n",
      "dtypes: object(2)\n",
      "memory usage: 7.2+ KB\n"
     ]
    }
   ],
   "source": [
    "df_test.info()"
   ]
  },
  {
   "cell_type": "code",
   "execution_count": 7,
   "id": "75f59628",
   "metadata": {},
   "outputs": [
    {
     "data": {
      "text/plain": [
       "Cortinarius    0.111111\n",
       "Hygrocybe      0.111111\n",
       "Lactarius      0.111111\n",
       "Boletus        0.111111\n",
       "Entoloma       0.111111\n",
       "Russula        0.111111\n",
       "Suillus        0.111111\n",
       "Agaricus       0.111111\n",
       "Amanita        0.111111\n",
       "Name: Label, dtype: float64"
      ]
     },
     "execution_count": 7,
     "metadata": {},
     "output_type": "execute_result"
    }
   ],
   "source": [
    "df['Label'].value_counts() / df.shape[0]"
   ]
  },
  {
   "cell_type": "code",
   "execution_count": 8,
   "id": "774e2c24",
   "metadata": {},
   "outputs": [
    {
     "data": {
      "text/plain": [
       "Cortinarius    0.111111\n",
       "Hygrocybe      0.111111\n",
       "Lactarius      0.111111\n",
       "Suillus        0.111111\n",
       "Boletus        0.111111\n",
       "Entoloma       0.111111\n",
       "Agaricus       0.111111\n",
       "Russula        0.111111\n",
       "Amanita        0.111111\n",
       "Name: Label, dtype: float64"
      ]
     },
     "execution_count": 8,
     "metadata": {},
     "output_type": "execute_result"
    }
   ],
   "source": [
    "df_test['Label'].value_counts() / df_test.shape[0]"
   ]
  },
  {
   "cell_type": "markdown",
   "id": "77cba993",
   "metadata": {},
   "source": [
    "# Processing the images"
   ]
  },
  {
   "cell_type": "code",
   "execution_count": 9,
   "id": "586f0a78",
   "metadata": {},
   "outputs": [],
   "source": [
    "# With Contour + Fixed contrast, brightness, sharpness\n",
    "\n",
    "def processing_contour(df):\n",
    "    images = df['Image']\n",
    "    labels = df['Label']\n",
    "    \n",
    "    size = (150, 150)\n",
    "    contrast = 1.5\n",
    "    brightness = -10\n",
    "    \n",
    "    images_rgb = function_rgb(images)\n",
    "    images_rgb = resize_images(images_rgb, size)\n",
    "    images_rgb = filter_images(images_rgb)\n",
    "    images_rgb = adjust_contrast_images(images_rgb, contrast=contrast, brightness=brightness)\n",
    "    images_rgb = blur_images(images_rgb)\n",
    "    \n",
    "    images_gray = function_gray(images)\n",
    "    images_gray = resize_images(images_gray, size)\n",
    "    images_gray = filter_images(images_gray)\n",
    "    images_gray = adjust_contrast_images(images_gray, contrast=contrast, brightness=brightness)\n",
    "    images_gray = blur_images(images_gray)\n",
    "    \n",
    "    edged_images = edge_images(images_gray)\n",
    "    \n",
    "    images_contour = contour_images(edged_images, images_rgb)\n",
    "    \n",
    "    return list(images_contour)"
   ]
  },
  {
   "cell_type": "code",
   "execution_count": 10,
   "id": "e5d646f0",
   "metadata": {},
   "outputs": [],
   "source": [
    "# Random contras\n",
    "\n",
    "def processing_random_contrast(df):\n",
    "    images = df['Image']\n",
    "    labels = df['Label']\n",
    "    \n",
    "    size = (150, 150)\n",
    "    contrast = np.random.randint(1, 5)\n",
    "    brightness = -10\n",
    "    \n",
    "    images_rgb = function_rgb(images)\n",
    "    images_rgb = resize_images(images_rgb, size)\n",
    "    images_rgb = filter_images(images_rgb)\n",
    "    images_rgb = adjust_contrast_images(images_rgb, contrast=contrast, brightness=brightness)\n",
    "    images_rgb = blur_images(images_rgb)\n",
    "    \n",
    "    return list(images_rgb)"
   ]
  },
  {
   "cell_type": "code",
   "execution_count": 11,
   "id": "86868e93",
   "metadata": {},
   "outputs": [],
   "source": [
    "# Random Brightness\n",
    "\n",
    "def processing_random_brightness(df):\n",
    "    images = df['Image']\n",
    "    labels = df['Label']\n",
    "    \n",
    "    size = (150, 150)\n",
    "    contrast = 1.5\n",
    "    brightness = np.random.randint(-100, 100)\n",
    "    \n",
    "    images_rgb = function_rgb(images)\n",
    "    images_rgb = resize_images(images_rgb, size)\n",
    "    images_rgb = filter_images(images_rgb)\n",
    "    images_rgb = adjust_contrast_images(images_rgb, contrast=contrast, brightness=brightness)\n",
    "#     images_rgb = blur_images(images_rgb)\n",
    "    \n",
    "    return list(images_rgb)"
   ]
  },
  {
   "cell_type": "code",
   "execution_count": 12,
   "id": "788577da",
   "metadata": {},
   "outputs": [],
   "source": [
    "# Fixed contrast, brightness, sharpness\n",
    "\n",
    "def processing_fixed(df):\n",
    "    images = df['Image']\n",
    "    labels = df['Label']\n",
    "    \n",
    "    size = (150, 150)\n",
    "    contrast = 1.5\n",
    "    brightness = -10\n",
    "    \n",
    "    images_rgb = function_rgb(images)\n",
    "    images_rgb = resize_images(images_rgb, size)\n",
    "    images_rgb = filter_images(images_rgb)\n",
    "    images_rgb = adjust_contrast_images(images_rgb, contrast=contrast, brightness=brightness)\n",
    "    images_rgb = blur_images(images_rgb)\n",
    "    \n",
    "    return list(images_rgb)"
   ]
  },
  {
   "cell_type": "code",
   "execution_count": 13,
   "id": "94585715",
   "metadata": {},
   "outputs": [],
   "source": [
    "# Random sharpness\n",
    "\n",
    "def processing_random_sharpness(df):\n",
    "    images = df['Image']\n",
    "    labels = df['Label']\n",
    "    \n",
    "    size = (150, 150)\n",
    "    contrast = 1.5\n",
    "    brightness = -10\n",
    "    ddepth = np.random.randint(-100, 100)\n",
    "    \n",
    "    images_rgb = function_rgb(images)\n",
    "    images_rgb = resize_images(images_rgb, size)\n",
    "    images_rgb = filter_images(images_rgb, ddepth=ddepth)\n",
    "    images_rgb = adjust_contrast_images(images_rgb, contrast=contrast, brightness=brightness)\n",
    "#     images_rgb = blur_images(images_rgb)\n",
    "    \n",
    "    return list(images_rgb)"
   ]
  },
  {
   "cell_type": "code",
   "execution_count": 14,
   "id": "674fdac5",
   "metadata": {},
   "outputs": [],
   "source": [
    "# Random contrast, brightness\n",
    "def processing_random_cb(df):\n",
    "    images = df['Image']\n",
    "    labels = df['Label']\n",
    "    \n",
    "    size = (150, 150)\n",
    "    contrast = np.random.randint(1, 5)\n",
    "    brightness = np.random.randint(-100, 100)\n",
    "    \n",
    "    images_rgb = function_rgb(images)\n",
    "    images_rgb = resize_images(images_rgb, size)\n",
    "    images_rgb = filter_images(images_rgb)\n",
    "    images_rgb = adjust_contrast_images(images_rgb, contrast=contrast, brightness=brightness)\n",
    "    images_rgb = blur_images(images_rgb)\n",
    "    \n",
    "    return list(images_rgb)"
   ]
  },
  {
   "cell_type": "code",
   "execution_count": 15,
   "id": "6bfee54a",
   "metadata": {},
   "outputs": [],
   "source": [
    "# Rotated and flipped images\n",
    "\n",
    "def processing_rotated(df):\n",
    "    images = df['Image']\n",
    "    labels = df['Label']\n",
    "    \n",
    "    size = (150, 150)\n",
    "    contrast = 1.5\n",
    "    brightness = -10\n",
    "    \n",
    "    images_rgb = function_rgb(images)\n",
    "    images_rgb = resize_images(images_rgb, size)\n",
    "    images_rgb = filter_images(images_rgb)\n",
    "    images_rgb = adjust_contrast_images(images_rgb, contrast=contrast, brightness=brightness)\n",
    "    images_rgb = blur_images(images_rgb)\n",
    "    images_rgb = rotate_images(images_rgb)\n",
    "    \n",
    "    return list(images_rgb)"
   ]
  },
  {
   "cell_type": "code",
   "execution_count": 16,
   "id": "7adf3883",
   "metadata": {},
   "outputs": [],
   "source": [
    "# Add k-means\n",
    "\n",
    "def processing_kmeans(df):\n",
    "    images = df['Image']\n",
    "    labels = df['Label']\n",
    "    \n",
    "    size = (150, 150)\n",
    "    contrast = 1.5\n",
    "    brightness = -10\n",
    "    \n",
    "    images_rgb = function_rgb(images)\n",
    "    images_rgb = resize_images(images_rgb, size)\n",
    "    images_rgb = filter_images(images_rgb)\n",
    "    images_rgb = adjust_contrast_images(images_rgb, contrast=contrast, brightness=brightness)\n",
    "    images_rgb = kmeans_images(images_rgb, K=16)\n",
    "    images_rgb = blur_images(images_rgb)\n",
    "\n",
    "    return list(images_rgb)"
   ]
  },
  {
   "cell_type": "code",
   "execution_count": 17,
   "id": "bb99c2f7",
   "metadata": {},
   "outputs": [],
   "source": [
    "functions = [processing_kmeans]\n",
    "labels_functions = [function_label]\n",
    "\n",
    "train_images, train_labels = apply(functions, labels_functions, df)\n",
    "test_images, test_labels = apply(functions, labels_functions, df_test)"
   ]
  },
  {
   "cell_type": "code",
   "execution_count": 18,
   "id": "db607308",
   "metadata": {},
   "outputs": [
    {
     "data": {
      "text/plain": [
       "LabelEncoder()"
      ]
     },
     "execution_count": 18,
     "metadata": {},
     "output_type": "execute_result"
    }
   ],
   "source": [
    "le = LabelEncoder()\n",
    "le.fit(train_labels)"
   ]
  },
  {
   "cell_type": "code",
   "execution_count": 19,
   "id": "fb7f5c78",
   "metadata": {},
   "outputs": [],
   "source": [
    "train_images = np.array(train_images)\n",
    "train_labels = le.transform(train_labels)\n",
    "\n",
    "test_images = np.array(test_images)\n",
    "test_labels = le.transform(test_labels)"
   ]
  },
  {
   "cell_type": "code",
   "execution_count": 20,
   "id": "140d0e10",
   "metadata": {},
   "outputs": [],
   "source": [
    "train_datagen = ImageDataGenerator(\n",
    "        rescale=1./255,\n",
    "        shear_range=0.2,\n",
    "        zoom_range=0.2,\n",
    "        horizontal_flip=True,\n",
    "        rotation_range=20,\n",
    "        width_shift_range=0.2,\n",
    "        height_shift_range=0.2,\n",
    "        fill_mode=\"nearest\")\n",
    "\n",
    "test_datagen = ImageDataGenerator(rescale=1./255)"
   ]
  },
  {
   "cell_type": "code",
   "execution_count": 21,
   "id": "d795868e",
   "metadata": {},
   "outputs": [],
   "source": [
    "train_generator = train_datagen.flow(\n",
    "        train_images,\n",
    "        train_labels,\n",
    "        batch_size=32)"
   ]
  },
  {
   "cell_type": "code",
   "execution_count": 22,
   "id": "36fe0d92",
   "metadata": {},
   "outputs": [],
   "source": [
    "validation_generator = test_datagen.flow(\n",
    "                        test_images,\n",
    "                        test_labels,\n",
    "                        batch_size=8)"
   ]
  },
  {
   "cell_type": "markdown",
   "id": "a8db32ff",
   "metadata": {},
   "source": [
    "# Modelling"
   ]
  },
  {
   "cell_type": "code",
   "execution_count": 23,
   "id": "2fc1233d",
   "metadata": {},
   "outputs": [],
   "source": [
    "model = models.Sequential()\n",
    "model.add(layers.Conv2D(128, (3, 3), activation='relu', input_shape=(150, 150, 3)))\n",
    "model.add(layers.MaxPooling2D((3,3)))\n",
    "model.add(layers.Conv2D(64, (3, 3), activation='relu'))\n",
    "model.add(layers.MaxPooling2D((3,3)))\n",
    "model.add(layers.Conv2D(32, (3,3), activation='relu'))"
   ]
  },
  {
   "cell_type": "code",
   "execution_count": 24,
   "id": "d170d760",
   "metadata": {},
   "outputs": [
    {
     "name": "stdout",
     "output_type": "stream",
     "text": [
      "Model: \"sequential\"\n",
      "_________________________________________________________________\n",
      "Layer (type)                 Output Shape              Param #   \n",
      "=================================================================\n",
      "conv2d (Conv2D)              (None, 148, 148, 128)     3584      \n",
      "_________________________________________________________________\n",
      "max_pooling2d (MaxPooling2D) (None, 49, 49, 128)       0         \n",
      "_________________________________________________________________\n",
      "conv2d_1 (Conv2D)            (None, 47, 47, 64)        73792     \n",
      "_________________________________________________________________\n",
      "max_pooling2d_1 (MaxPooling2 (None, 15, 15, 64)        0         \n",
      "_________________________________________________________________\n",
      "conv2d_2 (Conv2D)            (None, 13, 13, 32)        18464     \n",
      "=================================================================\n",
      "Total params: 95,840\n",
      "Trainable params: 95,840\n",
      "Non-trainable params: 0\n",
      "_________________________________________________________________\n"
     ]
    }
   ],
   "source": [
    "model.summary()"
   ]
  },
  {
   "cell_type": "code",
   "execution_count": 25,
   "id": "bf9b5b80",
   "metadata": {},
   "outputs": [],
   "source": [
    "model.add(layers.Flatten())\n",
    "model.add(layers.Dense(128, activation='relu'))\n",
    "model.add(layers.Dense(64, activation='sigmoid'))\n",
    "model.add(layers.Dense(9))"
   ]
  },
  {
   "cell_type": "code",
   "execution_count": 26,
   "id": "17ba8005",
   "metadata": {},
   "outputs": [
    {
     "name": "stdout",
     "output_type": "stream",
     "text": [
      "Model: \"sequential\"\n",
      "_________________________________________________________________\n",
      "Layer (type)                 Output Shape              Param #   \n",
      "=================================================================\n",
      "conv2d (Conv2D)              (None, 148, 148, 128)     3584      \n",
      "_________________________________________________________________\n",
      "max_pooling2d (MaxPooling2D) (None, 49, 49, 128)       0         \n",
      "_________________________________________________________________\n",
      "conv2d_1 (Conv2D)            (None, 47, 47, 64)        73792     \n",
      "_________________________________________________________________\n",
      "max_pooling2d_1 (MaxPooling2 (None, 15, 15, 64)        0         \n",
      "_________________________________________________________________\n",
      "conv2d_2 (Conv2D)            (None, 13, 13, 32)        18464     \n",
      "_________________________________________________________________\n",
      "flatten (Flatten)            (None, 5408)              0         \n",
      "_________________________________________________________________\n",
      "dense (Dense)                (None, 128)               692352    \n",
      "_________________________________________________________________\n",
      "dense_1 (Dense)              (None, 64)                8256      \n",
      "_________________________________________________________________\n",
      "dense_2 (Dense)              (None, 9)                 585       \n",
      "=================================================================\n",
      "Total params: 797,033\n",
      "Trainable params: 797,033\n",
      "Non-trainable params: 0\n",
      "_________________________________________________________________\n"
     ]
    }
   ],
   "source": [
    "model.summary()"
   ]
  },
  {
   "cell_type": "code",
   "execution_count": 27,
   "id": "753ab9d6",
   "metadata": {},
   "outputs": [],
   "source": [
    "adam_callback = tf.keras.callbacks.TensorBoard(log_dir='CNN_board/adam', histogram_freq=1)\n",
    "sgd_callback = tf.keras.callbacks.TensorBoard(log_dir='CNN_board/sgd', histogram_freq=1)\n",
    "\n",
    "model.compile(optimizer='adam',\n",
    "              loss=tf.keras.losses.SparseCategoricalCrossentropy(from_logits=True),\n",
    "              metrics=['accuracy'])"
   ]
  },
  {
   "cell_type": "code",
   "execution_count": 37,
   "id": "8355e140",
   "metadata": {},
   "outputs": [],
   "source": [
    "save_path = 'save_model/RGB_Aug/cnn_rgb_aug.ckpt'\n",
    "filename = 'save_model/RGB_Aug/cnn_rgb_aug.ckpt.index'\n",
    "\n",
    "if os.path.isfile(filename):\n",
    "    model.load_weights(save_path)\n",
    "else:\n",
    "    print(\"There's no checkpoint yet\")\n",
    "\n",
    "cp_callback = tf.keras.callbacks.ModelCheckpoint(save_path, save_weights_only=True, save_best_only=True)"
   ]
  },
  {
   "cell_type": "code",
   "execution_count": 38,
   "id": "007f3cd8",
   "metadata": {
    "scrolled": true
   },
   "outputs": [
    {
     "name": "stdout",
     "output_type": "stream",
     "text": [
      "Epoch 1/100\n",
      "29/29 [==============================] - 16s 559ms/step - loss: 1.5572 - accuracy: 0.4456 - val_loss: 1.8748 - val_accuracy: 0.2933\n",
      "Epoch 2/100\n",
      "29/29 [==============================] - 17s 565ms/step - loss: 1.5635 - accuracy: 0.4389 - val_loss: 1.7478 - val_accuracy: 0.3578\n",
      "Epoch 3/100\n",
      "29/29 [==============================] - 16s 564ms/step - loss: 1.5604 - accuracy: 0.4322 - val_loss: 1.8015 - val_accuracy: 0.3200\n",
      "Epoch 4/100\n",
      "29/29 [==============================] - 16s 564ms/step - loss: 1.5736 - accuracy: 0.4211 - val_loss: 1.7719 - val_accuracy: 0.3733\n",
      "Epoch 5/100\n",
      "29/29 [==============================] - 16s 564ms/step - loss: 1.5395 - accuracy: 0.4456 - val_loss: 1.7779 - val_accuracy: 0.3422\n",
      "Epoch 6/100\n",
      "29/29 [==============================] - 16s 564ms/step - loss: 1.5332 - accuracy: 0.4644 - val_loss: 1.7333 - val_accuracy: 0.3911\n",
      "Epoch 7/100\n",
      "29/29 [==============================] - 16s 564ms/step - loss: 1.4790 - accuracy: 0.4511 - val_loss: 1.8179 - val_accuracy: 0.3311\n",
      "Epoch 8/100\n",
      "29/29 [==============================] - 17s 566ms/step - loss: 1.4884 - accuracy: 0.4578 - val_loss: 1.7957 - val_accuracy: 0.3844\n",
      "Epoch 9/100\n",
      "29/29 [==============================] - 17s 566ms/step - loss: 1.5253 - accuracy: 0.4456 - val_loss: 1.7536 - val_accuracy: 0.3444\n",
      "Epoch 10/100\n",
      "29/29 [==============================] - 17s 566ms/step - loss: 1.4832 - accuracy: 0.4844 - val_loss: 1.7425 - val_accuracy: 0.3667\n",
      "Epoch 11/100\n",
      "29/29 [==============================] - 17s 565ms/step - loss: 1.4575 - accuracy: 0.4822 - val_loss: 1.7193 - val_accuracy: 0.3778\n",
      "Epoch 12/100\n",
      "29/29 [==============================] - 17s 567ms/step - loss: 1.4533 - accuracy: 0.4778 - val_loss: 1.7719 - val_accuracy: 0.3467\n",
      "Epoch 13/100\n",
      "29/29 [==============================] - 16s 562ms/step - loss: 1.5036 - accuracy: 0.4544 - val_loss: 1.8986 - val_accuracy: 0.3200\n",
      "Epoch 14/100\n",
      "29/29 [==============================] - 17s 567ms/step - loss: 1.6788 - accuracy: 0.3933 - val_loss: 1.7719 - val_accuracy: 0.3489\n",
      "Epoch 15/100\n",
      "29/29 [==============================] - 17s 567ms/step - loss: 1.5269 - accuracy: 0.4456 - val_loss: 1.8281 - val_accuracy: 0.3267\n",
      "Epoch 16/100\n",
      "29/29 [==============================] - 17s 567ms/step - loss: 1.4921 - accuracy: 0.4656 - val_loss: 1.7981 - val_accuracy: 0.3511\n",
      "Epoch 17/100\n",
      "29/29 [==============================] - 16s 561ms/step - loss: 1.4601 - accuracy: 0.4667 - val_loss: 1.7453 - val_accuracy: 0.3689\n",
      "Epoch 18/100\n",
      "29/29 [==============================] - 17s 566ms/step - loss: 1.4582 - accuracy: 0.4833 - val_loss: 1.7545 - val_accuracy: 0.3422\n",
      "Epoch 19/100\n",
      "29/29 [==============================] - 17s 567ms/step - loss: 1.4244 - accuracy: 0.4889 - val_loss: 1.8157 - val_accuracy: 0.3289\n",
      "Epoch 20/100\n",
      "29/29 [==============================] - 17s 566ms/step - loss: 1.4675 - accuracy: 0.4756 - val_loss: 1.7807 - val_accuracy: 0.3400\n",
      "Epoch 21/100\n",
      "29/29 [==============================] - 17s 567ms/step - loss: 1.4461 - accuracy: 0.4711 - val_loss: 1.7928 - val_accuracy: 0.3378\n",
      "Epoch 22/100\n",
      "29/29 [==============================] - 17s 568ms/step - loss: 1.3991 - accuracy: 0.4967 - val_loss: 1.7459 - val_accuracy: 0.3422\n",
      "Epoch 23/100\n",
      "29/29 [==============================] - 16s 565ms/step - loss: 1.3829 - accuracy: 0.5056 - val_loss: 1.8392 - val_accuracy: 0.3622\n",
      "Epoch 24/100\n",
      "29/29 [==============================] - 16s 565ms/step - loss: 1.4765 - accuracy: 0.4667 - val_loss: 1.8748 - val_accuracy: 0.2978\n",
      "Epoch 25/100\n",
      "29/29 [==============================] - 16s 564ms/step - loss: 1.5252 - accuracy: 0.4444 - val_loss: 1.8105 - val_accuracy: 0.3533\n",
      "Epoch 26/100\n",
      "29/29 [==============================] - 16s 565ms/step - loss: 1.4168 - accuracy: 0.5022 - val_loss: 1.9299 - val_accuracy: 0.3133\n",
      "Epoch 27/100\n",
      "29/29 [==============================] - 16s 565ms/step - loss: 1.4359 - accuracy: 0.4689 - val_loss: 1.8039 - val_accuracy: 0.3511\n",
      "Epoch 28/100\n",
      "29/29 [==============================] - 16s 564ms/step - loss: 1.4051 - accuracy: 0.4978 - val_loss: 1.8521 - val_accuracy: 0.3356\n",
      "Epoch 29/100\n",
      "29/29 [==============================] - 16s 564ms/step - loss: 1.3809 - accuracy: 0.5167 - val_loss: 1.7552 - val_accuracy: 0.3600\n",
      "Epoch 30/100\n",
      "29/29 [==============================] - 16s 564ms/step - loss: 1.3558 - accuracy: 0.5256 - val_loss: 1.7806 - val_accuracy: 0.3600\n",
      "Epoch 31/100\n",
      "29/29 [==============================] - 17s 565ms/step - loss: 1.3866 - accuracy: 0.5022 - val_loss: 1.7932 - val_accuracy: 0.3489\n",
      "Epoch 32/100\n",
      "29/29 [==============================] - 16s 565ms/step - loss: 1.3344 - accuracy: 0.5233 - val_loss: 1.7516 - val_accuracy: 0.3356\n",
      "Epoch 33/100\n",
      "29/29 [==============================] - 17s 565ms/step - loss: 1.3615 - accuracy: 0.5200 - val_loss: 1.7623 - val_accuracy: 0.3600\n",
      "Epoch 34/100\n",
      "29/29 [==============================] - 16s 565ms/step - loss: 1.3329 - accuracy: 0.5156 - val_loss: 1.7773 - val_accuracy: 0.3778\n",
      "Epoch 35/100\n",
      "29/29 [==============================] - 16s 564ms/step - loss: 1.3764 - accuracy: 0.5056 - val_loss: 1.7977 - val_accuracy: 0.3422\n",
      "Epoch 36/100\n",
      "29/29 [==============================] - 17s 566ms/step - loss: 1.3953 - accuracy: 0.4944 - val_loss: 1.8148 - val_accuracy: 0.3244\n",
      "Epoch 37/100\n",
      "29/29 [==============================] - 16s 564ms/step - loss: 1.3324 - accuracy: 0.5289 - val_loss: 1.7604 - val_accuracy: 0.3556\n",
      "Epoch 38/100\n",
      "29/29 [==============================] - 16s 564ms/step - loss: 1.3464 - accuracy: 0.5100 - val_loss: 1.7691 - val_accuracy: 0.3778\n",
      "Epoch 39/100\n",
      "29/29 [==============================] - 16s 558ms/step - loss: 1.2723 - accuracy: 0.5433 - val_loss: 1.7367 - val_accuracy: 0.3933\n",
      "Epoch 40/100\n",
      "29/29 [==============================] - 17s 565ms/step - loss: 1.2612 - accuracy: 0.5433 - val_loss: 1.7844 - val_accuracy: 0.3867\n",
      "Epoch 41/100\n",
      "29/29 [==============================] - 16s 565ms/step - loss: 1.2783 - accuracy: 0.5467 - val_loss: 1.8039 - val_accuracy: 0.3622\n",
      "Epoch 42/100\n",
      "29/29 [==============================] - 16s 564ms/step - loss: 1.2906 - accuracy: 0.5389 - val_loss: 1.8531 - val_accuracy: 0.3400\n",
      "Epoch 43/100\n",
      "29/29 [==============================] - 16s 565ms/step - loss: 1.2560 - accuracy: 0.5500 - val_loss: 1.7817 - val_accuracy: 0.3533\n",
      "Epoch 44/100\n",
      "29/29 [==============================] - 16s 564ms/step - loss: 1.3191 - accuracy: 0.5211 - val_loss: 1.8556 - val_accuracy: 0.3333\n",
      "Epoch 45/100\n",
      "29/29 [==============================] - 17s 565ms/step - loss: 1.2649 - accuracy: 0.5478 - val_loss: 1.8230 - val_accuracy: 0.3578\n",
      "Epoch 46/100\n",
      "29/29 [==============================] - 17s 566ms/step - loss: 1.3365 - accuracy: 0.5089 - val_loss: 1.8280 - val_accuracy: 0.3622\n",
      "Epoch 47/100\n",
      "29/29 [==============================] - 16s 578ms/step - loss: 1.3099 - accuracy: 0.5500 - val_loss: 1.8019 - val_accuracy: 0.3711\n",
      "Epoch 48/100\n",
      "29/29 [==============================] - 17s 565ms/step - loss: 1.2400 - accuracy: 0.5511 - val_loss: 1.8000 - val_accuracy: 0.3800\n",
      "Epoch 49/100\n",
      "29/29 [==============================] - 17s 565ms/step - loss: 1.2170 - accuracy: 0.5678 - val_loss: 1.8585 - val_accuracy: 0.3533\n",
      "Epoch 50/100\n",
      "29/29 [==============================] - 16s 564ms/step - loss: 1.2720 - accuracy: 0.5311 - val_loss: 1.8542 - val_accuracy: 0.3556\n",
      "Epoch 51/100\n",
      "29/29 [==============================] - 16s 564ms/step - loss: 1.2437 - accuracy: 0.5600 - val_loss: 1.8702 - val_accuracy: 0.3533\n",
      "Epoch 52/100\n",
      "29/29 [==============================] - 17s 565ms/step - loss: 1.2356 - accuracy: 0.5744 - val_loss: 1.8783 - val_accuracy: 0.3578\n",
      "Epoch 53/100\n",
      "29/29 [==============================] - 16s 564ms/step - loss: 1.2117 - accuracy: 0.5700 - val_loss: 1.8408 - val_accuracy: 0.3578\n",
      "Epoch 54/100\n",
      "29/29 [==============================] - 17s 565ms/step - loss: 1.2330 - accuracy: 0.5644 - val_loss: 1.8269 - val_accuracy: 0.3578\n",
      "Epoch 55/100\n",
      "29/29 [==============================] - 16s 565ms/step - loss: 1.2969 - accuracy: 0.5256 - val_loss: 1.8833 - val_accuracy: 0.3667\n",
      "Epoch 56/100\n",
      "29/29 [==============================] - 16s 560ms/step - loss: 1.2290 - accuracy: 0.5611 - val_loss: 1.7961 - val_accuracy: 0.3644\n",
      "Epoch 57/100\n"
     ]
    },
    {
     "name": "stdout",
     "output_type": "stream",
     "text": [
      "29/29 [==============================] - 16s 563ms/step - loss: 1.2065 - accuracy: 0.5589 - val_loss: 1.8006 - val_accuracy: 0.3844\n",
      "Epoch 58/100\n",
      "29/29 [==============================] - 16s 563ms/step - loss: 1.2260 - accuracy: 0.5767 - val_loss: 1.8569 - val_accuracy: 0.3578\n",
      "Epoch 59/100\n",
      "29/29 [==============================] - 16s 562ms/step - loss: 1.1970 - accuracy: 0.5767 - val_loss: 1.7591 - val_accuracy: 0.3889\n",
      "Epoch 60/100\n",
      "29/29 [==============================] - 16s 562ms/step - loss: 1.1614 - accuracy: 0.5856 - val_loss: 1.8259 - val_accuracy: 0.3756\n",
      "Epoch 61/100\n",
      "29/29 [==============================] - 16s 562ms/step - loss: 1.1924 - accuracy: 0.5578 - val_loss: 1.8747 - val_accuracy: 0.3800\n",
      "Epoch 62/100\n",
      "29/29 [==============================] - 16s 562ms/step - loss: 1.1689 - accuracy: 0.5733 - val_loss: 1.7780 - val_accuracy: 0.3867\n",
      "Epoch 63/100\n",
      "29/29 [==============================] - 16s 562ms/step - loss: 1.1852 - accuracy: 0.5711 - val_loss: 1.8172 - val_accuracy: 0.3778\n",
      "Epoch 64/100\n",
      "29/29 [==============================] - 16s 563ms/step - loss: 1.1553 - accuracy: 0.5900 - val_loss: 1.8989 - val_accuracy: 0.3600\n",
      "Epoch 65/100\n",
      "29/29 [==============================] - 16s 563ms/step - loss: 1.1472 - accuracy: 0.6000 - val_loss: 1.8084 - val_accuracy: 0.3667\n",
      "Epoch 66/100\n",
      "29/29 [==============================] - 16s 562ms/step - loss: 1.1564 - accuracy: 0.5922 - val_loss: 1.8125 - val_accuracy: 0.3889\n",
      "Epoch 67/100\n",
      "29/29 [==============================] - 16s 562ms/step - loss: 1.1388 - accuracy: 0.5822 - val_loss: 1.7943 - val_accuracy: 0.3867\n",
      "Epoch 68/100\n",
      "29/29 [==============================] - 16s 562ms/step - loss: 1.1716 - accuracy: 0.5622 - val_loss: 1.8442 - val_accuracy: 0.3800\n",
      "Epoch 69/100\n",
      "29/29 [==============================] - 16s 562ms/step - loss: 1.1819 - accuracy: 0.5611 - val_loss: 1.8402 - val_accuracy: 0.3867\n",
      "Epoch 70/100\n",
      "29/29 [==============================] - 16s 562ms/step - loss: 1.1187 - accuracy: 0.5933 - val_loss: 1.8349 - val_accuracy: 0.3756\n",
      "Epoch 71/100\n",
      "29/29 [==============================] - 16s 563ms/step - loss: 1.0772 - accuracy: 0.6256 - val_loss: 1.8140 - val_accuracy: 0.3911\n",
      "Epoch 72/100\n",
      "29/29 [==============================] - 16s 575ms/step - loss: 1.1530 - accuracy: 0.5933 - val_loss: 1.8203 - val_accuracy: 0.3689\n",
      "Epoch 73/100\n",
      "29/29 [==============================] - 16s 563ms/step - loss: 1.0665 - accuracy: 0.6278 - val_loss: 1.8353 - val_accuracy: 0.3756\n",
      "Epoch 74/100\n",
      "29/29 [==============================] - 16s 563ms/step - loss: 1.0790 - accuracy: 0.5967 - val_loss: 1.7917 - val_accuracy: 0.3867\n",
      "Epoch 75/100\n",
      "29/29 [==============================] - 16s 562ms/step - loss: 1.0883 - accuracy: 0.6278 - val_loss: 1.8194 - val_accuracy: 0.4022\n",
      "Epoch 76/100\n",
      "29/29 [==============================] - 16s 562ms/step - loss: 1.0678 - accuracy: 0.6167 - val_loss: 1.9479 - val_accuracy: 0.3511\n",
      "Epoch 77/100\n",
      "29/29 [==============================] - 16s 576ms/step - loss: 1.1215 - accuracy: 0.6033 - val_loss: 1.8658 - val_accuracy: 0.3911\n",
      "Epoch 78/100\n",
      "29/29 [==============================] - 16s 563ms/step - loss: 1.1296 - accuracy: 0.5967 - val_loss: 1.9688 - val_accuracy: 0.3556\n",
      "Epoch 79/100\n",
      "29/29 [==============================] - 16s 562ms/step - loss: 1.1370 - accuracy: 0.6022 - val_loss: 1.8878 - val_accuracy: 0.3622\n",
      "Epoch 80/100\n",
      "29/29 [==============================] - 17s 573ms/step - loss: 1.0620 - accuracy: 0.6289 - val_loss: 1.8537 - val_accuracy: 0.3689\n",
      "Epoch 81/100\n",
      "29/29 [==============================] - 17s 567ms/step - loss: 1.0598 - accuracy: 0.6133 - val_loss: 1.8866 - val_accuracy: 0.3778\n",
      "Epoch 82/100\n",
      "29/29 [==============================] - 17s 567ms/step - loss: 1.1057 - accuracy: 0.6078 - val_loss: 1.8739 - val_accuracy: 0.4022\n",
      "Epoch 83/100\n",
      "29/29 [==============================] - 16s 579ms/step - loss: 1.0770 - accuracy: 0.6211 - val_loss: 1.8403 - val_accuracy: 0.4200\n",
      "Epoch 84/100\n",
      "29/29 [==============================] - 17s 567ms/step - loss: 1.0493 - accuracy: 0.6411 - val_loss: 1.8453 - val_accuracy: 0.3756\n",
      "Epoch 85/100\n",
      "29/29 [==============================] - 17s 566ms/step - loss: 1.0034 - accuracy: 0.6556 - val_loss: 1.8379 - val_accuracy: 0.3867\n",
      "Epoch 86/100\n",
      "29/29 [==============================] - 17s 567ms/step - loss: 0.9976 - accuracy: 0.6556 - val_loss: 1.8996 - val_accuracy: 0.3867\n",
      "Epoch 87/100\n",
      "29/29 [==============================] - 17s 567ms/step - loss: 1.0739 - accuracy: 0.6144 - val_loss: 1.9255 - val_accuracy: 0.3844\n",
      "Epoch 88/100\n",
      "29/29 [==============================] - 17s 567ms/step - loss: 1.0192 - accuracy: 0.6400 - val_loss: 1.9395 - val_accuracy: 0.4000\n",
      "Epoch 89/100\n",
      "29/29 [==============================] - 17s 568ms/step - loss: 1.0095 - accuracy: 0.6544 - val_loss: 1.8996 - val_accuracy: 0.3889\n",
      "Epoch 90/100\n",
      "29/29 [==============================] - 17s 566ms/step - loss: 1.0285 - accuracy: 0.6467 - val_loss: 1.8827 - val_accuracy: 0.3933\n",
      "Epoch 91/100\n",
      "29/29 [==============================] - 17s 567ms/step - loss: 0.9977 - accuracy: 0.6489 - val_loss: 1.8712 - val_accuracy: 0.3911\n",
      "Epoch 92/100\n",
      "29/29 [==============================] - 17s 567ms/step - loss: 0.9862 - accuracy: 0.6478 - val_loss: 1.9072 - val_accuracy: 0.3667\n",
      "Epoch 93/100\n",
      "29/29 [==============================] - 17s 566ms/step - loss: 1.0590 - accuracy: 0.6322 - val_loss: 1.9359 - val_accuracy: 0.3444\n",
      "Epoch 94/100\n",
      "29/29 [==============================] - 17s 567ms/step - loss: 1.0380 - accuracy: 0.6422 - val_loss: 1.9513 - val_accuracy: 0.3733\n",
      "Epoch 95/100\n",
      "29/29 [==============================] - 17s 568ms/step - loss: 1.0604 - accuracy: 0.6233 - val_loss: 1.9681 - val_accuracy: 0.3711\n",
      "Epoch 96/100\n",
      "29/29 [==============================] - 17s 567ms/step - loss: 1.0341 - accuracy: 0.6500 - val_loss: 1.9470 - val_accuracy: 0.3489\n",
      "Epoch 97/100\n",
      "29/29 [==============================] - 17s 567ms/step - loss: 1.0737 - accuracy: 0.6322 - val_loss: 1.9154 - val_accuracy: 0.3778\n",
      "Epoch 98/100\n",
      "29/29 [==============================] - 16s 561ms/step - loss: 0.9869 - accuracy: 0.6600 - val_loss: 1.8320 - val_accuracy: 0.3867\n",
      "Epoch 99/100\n",
      "29/29 [==============================] - 17s 572ms/step - loss: 1.0028 - accuracy: 0.6467 - val_loss: 1.9101 - val_accuracy: 0.3889\n",
      "Epoch 100/100\n",
      "29/29 [==============================] - 17s 567ms/step - loss: 0.9273 - accuracy: 0.6756 - val_loss: 1.9090 - val_accuracy: 0.3978\n"
     ]
    }
   ],
   "source": [
    "# Open this kernel only for training the model\n",
    "\n",
    "model_trained = model.fit(train_generator, epochs=100,  \n",
    "                          validation_data=validation_generator, callbacks=[cp_callback])"
   ]
  },
  {
   "cell_type": "code",
   "execution_count": 36,
   "id": "e1784b78",
   "metadata": {},
   "outputs": [
    {
     "name": "stdout",
     "output_type": "stream",
     "text": [
      "15/15 [==============================] - 3s 166ms/step - loss: 1.7793 - accuracy: 0.3533\n"
     ]
    },
    {
     "data": {
      "text/plain": [
       "[1.7793176174163818, 0.35333332419395447]"
      ]
     },
     "execution_count": 36,
     "metadata": {},
     "output_type": "execute_result"
    }
   ],
   "source": [
    "model.evaluate(test_images / 255.0, test_labels)"
   ]
  },
  {
   "cell_type": "markdown",
   "id": "28c5e1be",
   "metadata": {},
   "source": [
    "## Evaluation"
   ]
  },
  {
   "cell_type": "markdown",
   "id": "07136fd2",
   "metadata": {},
   "source": [
    "### ROC and AUC"
   ]
  },
  {
   "cell_type": "code",
   "execution_count": 31,
   "id": "eff4416f",
   "metadata": {},
   "outputs": [],
   "source": [
    "model_proba = model.predict(test_images / 255.0)"
   ]
  },
  {
   "cell_type": "code",
   "execution_count": 32,
   "id": "302b5894",
   "metadata": {},
   "outputs": [],
   "source": [
    "fprs, tprs, aucs = calc_roc_curve(test_labels, model_proba)"
   ]
  },
  {
   "cell_type": "code",
   "execution_count": 33,
   "id": "1feb1183",
   "metadata": {},
   "outputs": [
    {
     "data": {
      "image/png": "[encoded data removed]",
      "text/plain": [
       "<Figure size 1080x648 with 1 Axes>"
      ]
     },
     "metadata": {
      "needs_background": "light"
     },
     "output_type": "display_data"
    }
   ],
   "source": [
    "fig, ax = plt.subplots(figsize=(15,9))\n",
    "\n",
    "plot_roc_curve(fprs, tprs, aucs, \"CNN\")"
   ]
  },
  {
   "cell_type": "markdown",
   "id": "420de362",
   "metadata": {},
   "source": [
    "### Confusion Matrix"
   ]
  },
  {
   "cell_type": "code",
   "execution_count": 34,
   "id": "c8a37b61",
   "metadata": {},
   "outputs": [],
   "source": [
    "model_pred = np.argmax(model.predict(test_images / 255.0), axis=1)"
   ]
  },
  {
   "cell_type": "code",
   "execution_count": 35,
   "id": "781531ef",
   "metadata": {},
   "outputs": [
    {
     "data": {
      "image/png": "[encoded data removed]",
      "text/plain": [
       "<Figure size 1080x648 with 2 Axes>"
      ]
     },
     "metadata": {
      "needs_background": "light"
     },
     "output_type": "display_data"
    }
   ],
   "source": [
    "fig, ax = plt.subplots(figsize=(15, 9))\n",
    "\n",
    "plot_confusion_matrix(le.inverse_transform(test_labels), test_labels, model_pred, 'CNN')"
   ]
  }
 ],
 "metadata": {
  "kernelspec": {
   "display_name": "Python 3",
   "language": "python",
   "name": "python3"
  },
  "language_info": {
   "codemirror_mode": {
    "name": "ipython",
    "version": 3
   },
   "file_extension": ".py",
   "mimetype": "text/x-python",
   "name": "python",
   "nbconvert_exporter": "python",
   "pygments_lexer": "ipython3",
   "version": "3.8.8"
  }
 },
 "nbformat": 4,
 "nbformat_minor": 5
}
