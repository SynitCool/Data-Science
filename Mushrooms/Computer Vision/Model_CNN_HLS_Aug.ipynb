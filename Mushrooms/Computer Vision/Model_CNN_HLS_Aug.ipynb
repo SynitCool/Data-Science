{
 "cells": [
  {
   "cell_type": "code",
   "execution_count": 1,
   "id": "92a3d9c7",
   "metadata": {},
   "outputs": [],
   "source": [
    "import pandas as pd\n",
    "import numpy as np\n",
    "import cv2\n",
    "import os\n",
    "\n",
    "import tensorflow as tf\n",
    "from tensorflow.keras import models, layers, datasets\n",
    "\n",
    "from sklearn.preprocessing import LabelEncoder\n",
    "from sklearn.model_selection import train_test_split\n",
    "from sklearn.preprocessing import MinMaxScaler\n",
    "\n",
    "import matplotlib.pyplot as plt\n",
    "import seaborn as sns\n",
    "\n",
    "from plotting import show_distribution\n",
    "from plot_val import calc_roc_curve, plot_roc_curve, plot_confusion_matrix\n",
    "\n",
    "from apply_processing import apply, resize_images, function_hls, function_gray\n",
    "from apply_processing import function_label, blur_images, adjust_contrast_images, rotated_labels\n",
    "from apply_processing import filter_images, edge_images, contour_images, rotate_images"
   ]
  },
  {
   "cell_type": "code",
   "execution_count": 2,
   "id": "e8341830",
   "metadata": {},
   "outputs": [
    {
     "name": "stdout",
     "output_type": "stream",
     "text": [
      "Nums GPUs available : 1\n"
     ]
    }
   ],
   "source": [
    "physical_devices = tf.config.experimental.list_physical_devices('GPU')\n",
    "print(f\"Nums GPUs available : {len(physical_devices)}\")\n",
    "\n",
    "tf.config.experimental.set_memory_growth(physical_devices[0], True)"
   ]
  },
  {
   "cell_type": "code",
   "execution_count": 3,
   "id": "871994f6",
   "metadata": {},
   "outputs": [
    {
     "data": {
      "text/html": [
       "<div>\n",
       "<style scoped>\n",
       "    .dataframe tbody tr th:only-of-type {\n",
       "        vertical-align: middle;\n",
       "    }\n",
       "\n",
       "    .dataframe tbody tr th {\n",
       "        vertical-align: top;\n",
       "    }\n",
       "\n",
       "    .dataframe thead th {\n",
       "        text-align: right;\n",
       "    }\n",
       "</style>\n",
       "<table border=\"1\" class=\"dataframe\">\n",
       "  <thead>\n",
       "    <tr style=\"text-align: right;\">\n",
       "      <th></th>\n",
       "      <th>Image</th>\n",
       "      <th>Label</th>\n",
       "    </tr>\n",
       "  </thead>\n",
       "  <tbody>\n",
       "    <tr>\n",
       "      <th>0</th>\n",
       "      <td>Dataset\\Mushrooms\\Agaricus\\009_mrv34Sn4WiQ.jpg</td>\n",
       "      <td>Agaricus</td>\n",
       "    </tr>\n",
       "    <tr>\n",
       "      <th>1</th>\n",
       "      <td>Dataset\\Mushrooms\\Agaricus\\010_Rk1D3EG856g.jpg</td>\n",
       "      <td>Agaricus</td>\n",
       "    </tr>\n",
       "    <tr>\n",
       "      <th>2</th>\n",
       "      <td>Dataset\\Mushrooms\\Agaricus\\017_QHGfbEiWvq8.jpg</td>\n",
       "      <td>Agaricus</td>\n",
       "    </tr>\n",
       "    <tr>\n",
       "      <th>3</th>\n",
       "      <td>Dataset\\Mushrooms\\Agaricus\\020_vZJfrjIwmqU.jpg</td>\n",
       "      <td>Agaricus</td>\n",
       "    </tr>\n",
       "    <tr>\n",
       "      <th>4</th>\n",
       "      <td>Dataset\\Mushrooms\\Agaricus\\030_-i6kYqDvBQo.jpg</td>\n",
       "      <td>Agaricus</td>\n",
       "    </tr>\n",
       "  </tbody>\n",
       "</table>\n",
       "</div>"
      ],
      "text/plain": [
       "                                            Image     Label\n",
       "0  Dataset\\Mushrooms\\Agaricus\\009_mrv34Sn4WiQ.jpg  Agaricus\n",
       "1  Dataset\\Mushrooms\\Agaricus\\010_Rk1D3EG856g.jpg  Agaricus\n",
       "2  Dataset\\Mushrooms\\Agaricus\\017_QHGfbEiWvq8.jpg  Agaricus\n",
       "3  Dataset\\Mushrooms\\Agaricus\\020_vZJfrjIwmqU.jpg  Agaricus\n",
       "4  Dataset\\Mushrooms\\Agaricus\\030_-i6kYqDvBQo.jpg  Agaricus"
      ]
     },
     "execution_count": 3,
     "metadata": {},
     "output_type": "execute_result"
    }
   ],
   "source": [
    "df = pd.read_csv(\"Dataset\\\\images_mushrooms.csv\")\n",
    "\n",
    "df.head()"
   ]
  },
  {
   "cell_type": "code",
   "execution_count": 4,
   "id": "2da0089f",
   "metadata": {},
   "outputs": [
    {
     "name": "stdout",
     "output_type": "stream",
     "text": [
      "<class 'pandas.core.frame.DataFrame'>\n",
      "RangeIndex: 900 entries, 0 to 899\n",
      "Data columns (total 2 columns):\n",
      " #   Column  Non-Null Count  Dtype \n",
      "---  ------  --------------  ----- \n",
      " 0   Image   900 non-null    object\n",
      " 1   Label   900 non-null    object\n",
      "dtypes: object(2)\n",
      "memory usage: 14.2+ KB\n"
     ]
    }
   ],
   "source": [
    "df.info()"
   ]
  },
  {
   "cell_type": "code",
   "execution_count": 5,
   "id": "75f59628",
   "metadata": {},
   "outputs": [
    {
     "data": {
      "text/plain": [
       "Entoloma       0.111111\n",
       "Boletus        0.111111\n",
       "Cortinarius    0.111111\n",
       "Russula        0.111111\n",
       "Hygrocybe      0.111111\n",
       "Suillus        0.111111\n",
       "Amanita        0.111111\n",
       "Lactarius      0.111111\n",
       "Agaricus       0.111111\n",
       "Name: Label, dtype: float64"
      ]
     },
     "execution_count": 5,
     "metadata": {},
     "output_type": "execute_result"
    }
   ],
   "source": [
    "df['Label'].value_counts() / df.shape[0]"
   ]
  },
  {
   "cell_type": "markdown",
   "id": "77cba993",
   "metadata": {},
   "source": [
    "# Processing the images"
   ]
  },
  {
   "cell_type": "code",
   "execution_count": 6,
   "id": "586f0a78",
   "metadata": {},
   "outputs": [],
   "source": [
    "# With Contour + Fixed contrast, brightness, sharpness\n",
    "\n",
    "def processing_contour(df):\n",
    "    images = df['Image']\n",
    "    labels = df['Label']\n",
    "    \n",
    "    size = (150, 150)\n",
    "    contrast = 1.75\n",
    "    brightness = 10\n",
    "    \n",
    "    images_hls = function_hls(images)\n",
    "    images_hls = resize_images(images_hls, size)\n",
    "    images_hls = filter_images(images_hls)\n",
    "    images_hls = adjust_contrast_images(images_hls, contrast=contrast, brightness=brightness)\n",
    "    images_hls = blur_images(images_hls)\n",
    "    \n",
    "    images_gray = function_gray(images)\n",
    "    images_gray = resize_images(images_gray, size)\n",
    "    images_gray = filter_images(images_gray)\n",
    "    images_gray = adjust_contrast_images(images_gray, contrast=contrast, brightness=brightness)\n",
    "    images_gray = blur_images(images_gray)\n",
    "    \n",
    "    edged_images = edge_images(images_gray)\n",
    "    \n",
    "    images_contour = contour_images(edged_images, images_hls)\n",
    "    \n",
    "    return list(images_contour)"
   ]
  },
  {
   "cell_type": "code",
   "execution_count": 7,
   "id": "86868e93",
   "metadata": {},
   "outputs": [],
   "source": [
    "# Random Contrast, Brightness, Sharpness\n",
    "\n",
    "def processing_random(df):\n",
    "    images = df['Image']\n",
    "    labels = df['Label']\n",
    "    \n",
    "    size = (150, 150)\n",
    "    contrast = np.random.randint(1, 5)\n",
    "    brightness = np.random.randint(-100, 100)\n",
    "    \n",
    "    images_hls = function_hls(images)\n",
    "    images_hls = resize_images(images_hls, size)\n",
    "    images_hls = filter_images(images_hls)\n",
    "    images_hls = adjust_contrast_images(images_hls, contrast=contrast, brightness=brightness)\n",
    "    images_hls = blur_images(images_hls)\n",
    "    \n",
    "    return list(images_hls)"
   ]
  },
  {
   "cell_type": "code",
   "execution_count": 8,
   "id": "788577da",
   "metadata": {},
   "outputs": [],
   "source": [
    "# Fixed contrast, brightness, sharpness\n",
    "\n",
    "def processing_fixed(df):\n",
    "    images = df['Image']\n",
    "    labels = df['Label']\n",
    "    \n",
    "    size = (150, 150)\n",
    "    contrast = 1.75\n",
    "    brightness = 10\n",
    "    \n",
    "    images_hls = function_hls(images)\n",
    "    images_hls = resize_images(images_hls, size)\n",
    "    images_hls = filter_images(images_hls)\n",
    "    images_hls = adjust_contrast_images(images_hls, contrast=contrast, brightness=brightness)\n",
    "    images_hls = blur_images(images_hls)\n",
    "    \n",
    "    return list(images_hls)"
   ]
  },
  {
   "cell_type": "code",
   "execution_count": 9,
   "id": "6bfee54a",
   "metadata": {},
   "outputs": [],
   "source": [
    "# Rotated and flipped images\n",
    "\n",
    "def processing_rotated(df):\n",
    "    images = df['Image']\n",
    "    labels = df['Label']\n",
    "    \n",
    "    size = (150, 150)\n",
    "    contrast = 1.75\n",
    "    brightness = 10\n",
    "    \n",
    "    images_hls = function_hls(images)\n",
    "    images_hls = resize_images(images_hls, size)\n",
    "    images_hls = filter_images(images_hls)\n",
    "    images_hls = adjust_contrast_images(images_hls, contrast=contrast, brightness=brightness)\n",
    "    images_hls = blur_images(images_hls)\n",
    "    images_hls = rotate_images(images_hls)\n",
    "    \n",
    "    return list(images_hls)"
   ]
  },
  {
   "cell_type": "code",
   "execution_count": 10,
   "id": "9bde2e28",
   "metadata": {},
   "outputs": [],
   "source": [
    "functions = [processing_contour, processing_random, processing_fixed]\n",
    "labels = [function_label, function_label, function_label]\n",
    "\n",
    "images_aug, labels_aug = apply(functions, labels, df)"
   ]
  },
  {
   "cell_type": "markdown",
   "id": "d7a38b15",
   "metadata": {},
   "source": [
    "# Images info"
   ]
  },
  {
   "cell_type": "code",
   "execution_count": 11,
   "id": "4cb00b0b",
   "metadata": {},
   "outputs": [
    {
     "name": "stdout",
     "output_type": "stream",
     "text": [
      "Length of images no augmentation 2700\n",
      "Length of labels no augmentation 2700\n"
     ]
    }
   ],
   "source": [
    "print(f\"Length of images no augmentation {len(images_aug)}\")\n",
    "print(f\"Length of labels no augmentation {len(labels_aug)}\")"
   ]
  },
  {
   "cell_type": "markdown",
   "id": "6417df7d",
   "metadata": {},
   "source": [
    "## Distribution"
   ]
  },
  {
   "cell_type": "code",
   "execution_count": 12,
   "id": "d4a382de",
   "metadata": {},
   "outputs": [],
   "source": [
    "# show_distribution(images_noAug)"
   ]
  },
  {
   "cell_type": "markdown",
   "id": "a8db32ff",
   "metadata": {},
   "source": [
    "# Modelling"
   ]
  },
  {
   "cell_type": "code",
   "execution_count": 13,
   "id": "ccd12b66",
   "metadata": {},
   "outputs": [],
   "source": [
    "# le = LabelEncoder()\n",
    "# le.fit(labels)"
   ]
  },
  {
   "cell_type": "code",
   "execution_count": 14,
   "id": "c604088b",
   "metadata": {},
   "outputs": [],
   "source": [
    "# labels = le.transform(labels_noAug)\n",
    "# images = images_noAug / 255.0"
   ]
  },
  {
   "cell_type": "code",
   "execution_count": 15,
   "id": "b4dc6e0a",
   "metadata": {},
   "outputs": [],
   "source": [
    "# X_train, X_test, y_train, y_test = train_test_split(images, labels, test_size=0.33, random_state=42)"
   ]
  },
  {
   "cell_type": "code",
   "execution_count": 16,
   "id": "2fc1233d",
   "metadata": {},
   "outputs": [],
   "source": [
    "# model = models.Sequential()\n",
    "# model.add(layers.Conv2D(128, (3, 3), activation='relu', input_shape=(150, 150, 1)))\n",
    "# model.add(layers.MaxPooling2D((3,3)))\n",
    "# model.add(layers.Conv2D(64, (3, 3), activation='relu'))\n",
    "# model.add(layers.MaxPooling2D((3,3)))\n",
    "# model.add(layers.Conv2D(32, (3,3), activation='relu'))"
   ]
  },
  {
   "cell_type": "code",
   "execution_count": 17,
   "id": "d170d760",
   "metadata": {},
   "outputs": [],
   "source": [
    "# model.summary()"
   ]
  },
  {
   "cell_type": "code",
   "execution_count": 18,
   "id": "bf9b5b80",
   "metadata": {},
   "outputs": [],
   "source": [
    "# model.add(layers.Flatten())\n",
    "# model.add(layers.Dense(128, activation='sigmoid'))\n",
    "# model.add(layers.Dense(4))"
   ]
  },
  {
   "cell_type": "code",
   "execution_count": 19,
   "id": "17ba8005",
   "metadata": {},
   "outputs": [],
   "source": [
    "# model.summary()"
   ]
  },
  {
   "cell_type": "code",
   "execution_count": 20,
   "id": "753ab9d6",
   "metadata": {},
   "outputs": [],
   "source": [
    "# adam_callback = tf.keras.callbacks.TensorBoard(log_dir='CNN_board/adam', histogram_freq=1)\n",
    "# sgd_callback = tf.keras.callbacks.TensorBoard(log_dir='CNN_board/sgd', histogram_freq=1)\n",
    "\n",
    "# model.compile(optimizer='adam',\n",
    "#               loss=tf.keras.losses.SparseCategoricalCrossentropy(from_logits=True),\n",
    "#               metrics=['accuracy'])"
   ]
  },
  {
   "cell_type": "code",
   "execution_count": 21,
   "id": "007f3cd8",
   "metadata": {},
   "outputs": [],
   "source": [
    "# model_training = model.fit(X_train, y_train, epochs=6, \n",
    "#                            validation_data=(X_test, y_test), batch_size=32)"
   ]
  },
  {
   "cell_type": "code",
   "execution_count": 22,
   "id": "cae15323",
   "metadata": {},
   "outputs": [],
   "source": [
    "# model.evaluate(X_test, y_test)"
   ]
  },
  {
   "cell_type": "markdown",
   "id": "28c5e1be",
   "metadata": {},
   "source": [
    "## Evaluation"
   ]
  },
  {
   "cell_type": "markdown",
   "id": "07136fd2",
   "metadata": {},
   "source": [
    "### ROC and AUC"
   ]
  },
  {
   "cell_type": "code",
   "execution_count": 23,
   "id": "eff4416f",
   "metadata": {},
   "outputs": [],
   "source": [
    "# model_proba = model.predict(X_test)"
   ]
  },
  {
   "cell_type": "code",
   "execution_count": 24,
   "id": "302b5894",
   "metadata": {},
   "outputs": [],
   "source": [
    "# fprs, tprs, aucs = calc_roc_curve(y_test, model_proba)"
   ]
  },
  {
   "cell_type": "code",
   "execution_count": 25,
   "id": "1feb1183",
   "metadata": {},
   "outputs": [],
   "source": [
    "# fig, ax = plt.subplots(figsize=(15,9))\n",
    "\n",
    "# plot_roc_curve(fprs, tprs, aucs, \"CNN\")"
   ]
  },
  {
   "cell_type": "markdown",
   "id": "420de362",
   "metadata": {},
   "source": [
    "### Confusion Matrix"
   ]
  },
  {
   "cell_type": "code",
   "execution_count": 26,
   "id": "c8a37b61",
   "metadata": {},
   "outputs": [],
   "source": [
    "# model_pred = np.argmax(model.predict(X_test), axis=1)"
   ]
  },
  {
   "cell_type": "code",
   "execution_count": 27,
   "id": "781531ef",
   "metadata": {},
   "outputs": [],
   "source": [
    "# fig, ax = plt.subplots(figsize=(15, 9))\n",
    "\n",
    "# plot_confusion_matrix(le.inverse_transform(labels), y_test, model_pred, 'CNN')"
   ]
  }
 ],
 "metadata": {
  "kernelspec": {
   "display_name": "Python 3",
   "language": "python",
   "name": "python3"
  },
  "language_info": {
   "codemirror_mode": {
    "name": "ipython",
    "version": 3
   },
   "file_extension": ".py",
   "mimetype": "text/x-python",
   "name": "python",
   "nbconvert_exporter": "python",
   "pygments_lexer": "ipython3",
   "version": "3.8.8"
  }
 },
 "nbformat": 4,
 "nbformat_minor": 5
}
