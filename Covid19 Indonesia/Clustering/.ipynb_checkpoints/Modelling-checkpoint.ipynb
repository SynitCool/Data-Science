{
 "cells": [
  {
   "cell_type": "code",
   "execution_count": 1,
   "metadata": {},
   "outputs": [],
   "source": [
    "import pandas as pd\n",
    "import numpy as np\n",
    "\n",
    "import matplotlib.pyplot as plt\n",
    "import seaborn as sns\n",
    "\n",
    "from sklearn.preprocessing import MinMaxScaler\n",
    "from sklearn.cluster import KMeans"
   ]
  },
  {
   "cell_type": "code",
   "execution_count": 2,
   "metadata": {},
   "outputs": [
    {
     "data": {
      "text/html": [
       "<div>\n",
       "<style scoped>\n",
       "    .dataframe tbody tr th:only-of-type {\n",
       "        vertical-align: middle;\n",
       "    }\n",
       "\n",
       "    .dataframe tbody tr th {\n",
       "        vertical-align: top;\n",
       "    }\n",
       "\n",
       "    .dataframe thead th {\n",
       "        text-align: right;\n",
       "    }\n",
       "</style>\n",
       "<table border=\"1\" class=\"dataframe\">\n",
       "  <thead>\n",
       "    <tr style=\"text-align: right;\">\n",
       "      <th></th>\n",
       "      <th>Province</th>\n",
       "      <th>Daily_Case</th>\n",
       "      <th>Daily_Death</th>\n",
       "      <th>Daily_Recovered</th>\n",
       "      <th>Daily_Active_Case</th>\n",
       "      <th>Cumulative_Case</th>\n",
       "      <th>Cumulative_Recovered</th>\n",
       "      <th>Cumulative_Death</th>\n",
       "      <th>Cumulative_Active_Case</th>\n",
       "    </tr>\n",
       "  </thead>\n",
       "  <tbody>\n",
       "    <tr>\n",
       "      <th>0</th>\n",
       "      <td>ACEH</td>\n",
       "      <td>11237</td>\n",
       "      <td>449</td>\n",
       "      <td>9785</td>\n",
       "      <td>1003</td>\n",
       "      <td>1995884</td>\n",
       "      <td>1537250</td>\n",
       "      <td>79429</td>\n",
       "      <td>379205</td>\n",
       "    </tr>\n",
       "    <tr>\n",
       "      <th>1</th>\n",
       "      <td>BALI</td>\n",
       "      <td>44896</td>\n",
       "      <td>1231</td>\n",
       "      <td>41985</td>\n",
       "      <td>1680</td>\n",
       "      <td>5689598</td>\n",
       "      <td>5100446</td>\n",
       "      <td>151968</td>\n",
       "      <td>437184</td>\n",
       "    </tr>\n",
       "    <tr>\n",
       "      <th>2</th>\n",
       "      <td>BANTEN</td>\n",
       "      <td>47451</td>\n",
       "      <td>1207</td>\n",
       "      <td>44197</td>\n",
       "      <td>2047</td>\n",
       "      <td>5276319</td>\n",
       "      <td>4847946</td>\n",
       "      <td>154955</td>\n",
       "      <td>273418</td>\n",
       "    </tr>\n",
       "    <tr>\n",
       "      <th>3</th>\n",
       "      <td>BENGKULU</td>\n",
       "      <td>6959</td>\n",
       "      <td>173</td>\n",
       "      <td>5939</td>\n",
       "      <td>847</td>\n",
       "      <td>804077</td>\n",
       "      <td>689618</td>\n",
       "      <td>26581</td>\n",
       "      <td>87878</td>\n",
       "    </tr>\n",
       "    <tr>\n",
       "      <th>4</th>\n",
       "      <td>DIY</td>\n",
       "      <td>39824</td>\n",
       "      <td>965</td>\n",
       "      <td>35045</td>\n",
       "      <td>3814</td>\n",
       "      <td>3984843</td>\n",
       "      <td>3098072</td>\n",
       "      <td>95229</td>\n",
       "      <td>791542</td>\n",
       "    </tr>\n",
       "  </tbody>\n",
       "</table>\n",
       "</div>"
      ],
      "text/plain": [
       "   Province  Daily_Case  Daily_Death  Daily_Recovered  Daily_Active_Case  \\\n",
       "0      ACEH       11237          449             9785               1003   \n",
       "1      BALI       44896         1231            41985               1680   \n",
       "2    BANTEN       47451         1207            44197               2047   \n",
       "3  BENGKULU        6959          173             5939                847   \n",
       "4       DIY       39824          965            35045               3814   \n",
       "\n",
       "   Cumulative_Case  Cumulative_Recovered  Cumulative_Death  \\\n",
       "0          1995884               1537250             79429   \n",
       "1          5689598               5100446            151968   \n",
       "2          5276319               4847946            154955   \n",
       "3           804077                689618             26581   \n",
       "4          3984843               3098072             95229   \n",
       "\n",
       "   Cumulative_Active_Case  \n",
       "0                  379205  \n",
       "1                  437184  \n",
       "2                  273418  \n",
       "3                   87878  \n",
       "4                  791542  "
      ]
     },
     "execution_count": 2,
     "metadata": {},
     "output_type": "execute_result"
    }
   ],
   "source": [
    "df = pd.read_csv(\"Dataset\\\\Cleaned\\\\Covid19propinsi_Cleaned.csv\")\n",
    "\n",
    "df.head()"
   ]
  },
  {
   "cell_type": "code",
   "execution_count": 3,
   "metadata": {},
   "outputs": [
    {
     "name": "stdout",
     "output_type": "stream",
     "text": [
      "<class 'pandas.core.frame.DataFrame'>\n",
      "RangeIndex: 34 entries, 0 to 33\n",
      "Data columns (total 9 columns):\n",
      " #   Column                  Non-Null Count  Dtype \n",
      "---  ------                  --------------  ----- \n",
      " 0   Province                34 non-null     object\n",
      " 1   Daily_Case              34 non-null     int64 \n",
      " 2   Daily_Death             34 non-null     int64 \n",
      " 3   Daily_Recovered         34 non-null     int64 \n",
      " 4   Daily_Active_Case       34 non-null     int64 \n",
      " 5   Cumulative_Case         34 non-null     int64 \n",
      " 6   Cumulative_Recovered    34 non-null     int64 \n",
      " 7   Cumulative_Death        34 non-null     int64 \n",
      " 8   Cumulative_Active_Case  34 non-null     int64 \n",
      "dtypes: int64(8), object(1)\n",
      "memory usage: 2.5+ KB\n"
     ]
    }
   ],
   "source": [
    "df.info()"
   ]
  },
  {
   "cell_type": "code",
   "execution_count": 4,
   "metadata": {},
   "outputs": [
    {
     "data": {
      "text/html": [
       "<div>\n",
       "<style scoped>\n",
       "    .dataframe tbody tr th:only-of-type {\n",
       "        vertical-align: middle;\n",
       "    }\n",
       "\n",
       "    .dataframe tbody tr th {\n",
       "        vertical-align: top;\n",
       "    }\n",
       "\n",
       "    .dataframe thead th {\n",
       "        text-align: right;\n",
       "    }\n",
       "</style>\n",
       "<table border=\"1\" class=\"dataframe\">\n",
       "  <thead>\n",
       "    <tr style=\"text-align: right;\">\n",
       "      <th></th>\n",
       "      <th>Daily_Case</th>\n",
       "      <th>Daily_Death</th>\n",
       "      <th>Daily_Recovered</th>\n",
       "      <th>Daily_Active_Case</th>\n",
       "      <th>Cumulative_Case</th>\n",
       "      <th>Cumulative_Recovered</th>\n",
       "      <th>Cumulative_Death</th>\n",
       "      <th>Cumulative_Active_Case</th>\n",
       "    </tr>\n",
       "  </thead>\n",
       "  <tbody>\n",
       "    <tr>\n",
       "      <th>count</th>\n",
       "      <td>34.000000</td>\n",
       "      <td>34.000000</td>\n",
       "      <td>34.000000</td>\n",
       "      <td>34.000000</td>\n",
       "      <td>3.400000e+01</td>\n",
       "      <td>3.400000e+01</td>\n",
       "      <td>3.400000e+01</td>\n",
       "      <td>3.400000e+01</td>\n",
       "    </tr>\n",
       "    <tr>\n",
       "      <th>mean</th>\n",
       "      <td>49330.411765</td>\n",
       "      <td>1341.264706</td>\n",
       "      <td>44988.176471</td>\n",
       "      <td>3000.970588</td>\n",
       "      <td>6.410065e+06</td>\n",
       "      <td>5.416925e+06</td>\n",
       "      <td>1.929999e+05</td>\n",
       "      <td>8.001399e+05</td>\n",
       "    </tr>\n",
       "    <tr>\n",
       "      <th>std</th>\n",
       "      <td>86108.093256</td>\n",
       "      <td>2425.911454</td>\n",
       "      <td>80799.212969</td>\n",
       "      <td>5432.742320</td>\n",
       "      <td>1.098259e+07</td>\n",
       "      <td>9.708655e+06</td>\n",
       "      <td>3.677516e+05</td>\n",
       "      <td>1.278279e+06</td>\n",
       "    </tr>\n",
       "    <tr>\n",
       "      <th>min</th>\n",
       "      <td>4417.000000</td>\n",
       "      <td>43.000000</td>\n",
       "      <td>4147.000000</td>\n",
       "      <td>94.000000</td>\n",
       "      <td>7.068290e+05</td>\n",
       "      <td>5.621900e+05</td>\n",
       "      <td>5.741000e+03</td>\n",
       "      <td>7.030700e+04</td>\n",
       "    </tr>\n",
       "    <tr>\n",
       "      <th>25%</th>\n",
       "      <td>10442.250000</td>\n",
       "      <td>191.250000</td>\n",
       "      <td>8854.750000</td>\n",
       "      <td>778.750000</td>\n",
       "      <td>1.285570e+06</td>\n",
       "      <td>9.764942e+05</td>\n",
       "      <td>2.702425e+04</td>\n",
       "      <td>2.197152e+05</td>\n",
       "    </tr>\n",
       "    <tr>\n",
       "      <th>50%</th>\n",
       "      <td>15886.500000</td>\n",
       "      <td>451.000000</td>\n",
       "      <td>12988.000000</td>\n",
       "      <td>1623.000000</td>\n",
       "      <td>2.265820e+06</td>\n",
       "      <td>1.685787e+06</td>\n",
       "      <td>7.713450e+04</td>\n",
       "      <td>3.417620e+05</td>\n",
       "    </tr>\n",
       "    <tr>\n",
       "      <th>75%</th>\n",
       "      <td>43628.000000</td>\n",
       "      <td>998.500000</td>\n",
       "      <td>38015.750000</td>\n",
       "      <td>2277.000000</td>\n",
       "      <td>5.330059e+06</td>\n",
       "      <td>4.809821e+06</td>\n",
       "      <td>1.580300e+05</td>\n",
       "      <td>6.835198e+05</td>\n",
       "    </tr>\n",
       "    <tr>\n",
       "      <th>max</th>\n",
       "      <td>410363.000000</td>\n",
       "      <td>10706.000000</td>\n",
       "      <td>396605.000000</td>\n",
       "      <td>30643.000000</td>\n",
       "      <td>5.462418e+07</td>\n",
       "      <td>4.995523e+07</td>\n",
       "      <td>1.789746e+06</td>\n",
       "      <td>5.565404e+06</td>\n",
       "    </tr>\n",
       "  </tbody>\n",
       "</table>\n",
       "</div>"
      ],
      "text/plain": [
       "          Daily_Case   Daily_Death  Daily_Recovered  Daily_Active_Case  \\\n",
       "count      34.000000     34.000000        34.000000          34.000000   \n",
       "mean    49330.411765   1341.264706     44988.176471        3000.970588   \n",
       "std     86108.093256   2425.911454     80799.212969        5432.742320   \n",
       "min      4417.000000     43.000000      4147.000000          94.000000   \n",
       "25%     10442.250000    191.250000      8854.750000         778.750000   \n",
       "50%     15886.500000    451.000000     12988.000000        1623.000000   \n",
       "75%     43628.000000    998.500000     38015.750000        2277.000000   \n",
       "max    410363.000000  10706.000000    396605.000000       30643.000000   \n",
       "\n",
       "       Cumulative_Case  Cumulative_Recovered  Cumulative_Death  \\\n",
       "count     3.400000e+01          3.400000e+01      3.400000e+01   \n",
       "mean      6.410065e+06          5.416925e+06      1.929999e+05   \n",
       "std       1.098259e+07          9.708655e+06      3.677516e+05   \n",
       "min       7.068290e+05          5.621900e+05      5.741000e+03   \n",
       "25%       1.285570e+06          9.764942e+05      2.702425e+04   \n",
       "50%       2.265820e+06          1.685787e+06      7.713450e+04   \n",
       "75%       5.330059e+06          4.809821e+06      1.580300e+05   \n",
       "max       5.462418e+07          4.995523e+07      1.789746e+06   \n",
       "\n",
       "       Cumulative_Active_Case  \n",
       "count            3.400000e+01  \n",
       "mean             8.001399e+05  \n",
       "std              1.278279e+06  \n",
       "min              7.030700e+04  \n",
       "25%              2.197152e+05  \n",
       "50%              3.417620e+05  \n",
       "75%              6.835198e+05  \n",
       "max              5.565404e+06  "
      ]
     },
     "execution_count": 4,
     "metadata": {},
     "output_type": "execute_result"
    }
   ],
   "source": [
    "df.describe()"
   ]
  },
  {
   "cell_type": "code",
   "execution_count": 5,
   "metadata": {},
   "outputs": [
    {
     "data": {
      "text/plain": [
       "<matplotlib.axes._subplots.AxesSubplot at 0x2653d13d190>"
      ]
     },
     "execution_count": 5,
     "metadata": {},
     "output_type": "execute_result"
    },
    {
     "data": {
      "image/png": "[encoded data removed]",
      "text/plain": [
       "<Figure size 1080x648 with 2 Axes>"
      ]
     },
     "metadata": {
      "needs_background": "light"
     },
     "output_type": "display_data"
    }
   ],
   "source": [
    "fig, ax = plt.subplots(figsize=(15, 9))\n",
    "\n",
    "sns.heatmap(df.corr(), annot=True)"
   ]
  },
  {
   "cell_type": "code",
   "execution_count": 6,
   "metadata": {},
   "outputs": [
    {
     "data": {
      "text/plain": [
       "Index(['Province', 'Daily_Case', 'Daily_Death', 'Daily_Recovered',\n",
       "       'Daily_Active_Case', 'Cumulative_Case', 'Cumulative_Recovered',\n",
       "       'Cumulative_Death', 'Cumulative_Active_Case'],\n",
       "      dtype='object')"
      ]
     },
     "execution_count": 6,
     "metadata": {},
     "output_type": "execute_result"
    }
   ],
   "source": [
    "df.columns"
   ]
  },
  {
   "cell_type": "code",
   "execution_count": 7,
   "metadata": {},
   "outputs": [
    {
     "name": "stdout",
     "output_type": "stream",
     "text": [
      "['Province', 'Daily_Case', 'Daily_Death', 'Daily_Recovered', 'Daily_Active_Case']\n",
      "['Province', 'Cumulative_Case', 'Cumulative_Recovered', 'Cumulative_Death', 'Cumulative_Active_Case']\n"
     ]
    }
   ],
   "source": [
    "df_daily = [\"Province\",]\n",
    "df_cumulative = [\"Province\", ]\n",
    "\n",
    "for column in df.columns:\n",
    "    if \"Daily_\" in column:\n",
    "        df_daily.append(column)\n",
    "    elif \"Cumulative_\" in column:\n",
    "        df_cumulative.append(column)\n",
    "        \n",
    "print(df_daily)\n",
    "print(df_cumulative)"
   ]
  },
  {
   "cell_type": "code",
   "execution_count": 8,
   "metadata": {},
   "outputs": [],
   "source": [
    "df_daily = df[df_daily]\n",
    "df_cumulative = df[df_cumulative]"
   ]
  },
  {
   "cell_type": "code",
   "execution_count": 9,
   "metadata": {},
   "outputs": [
    {
     "data": {
      "text/html": [
       "<div>\n",
       "<style scoped>\n",
       "    .dataframe tbody tr th:only-of-type {\n",
       "        vertical-align: middle;\n",
       "    }\n",
       "\n",
       "    .dataframe tbody tr th {\n",
       "        vertical-align: top;\n",
       "    }\n",
       "\n",
       "    .dataframe thead th {\n",
       "        text-align: right;\n",
       "    }\n",
       "</style>\n",
       "<table border=\"1\" class=\"dataframe\">\n",
       "  <thead>\n",
       "    <tr style=\"text-align: right;\">\n",
       "      <th></th>\n",
       "      <th>Province</th>\n",
       "      <th>Daily_Case</th>\n",
       "      <th>Daily_Death</th>\n",
       "      <th>Daily_Recovered</th>\n",
       "      <th>Daily_Active_Case</th>\n",
       "    </tr>\n",
       "  </thead>\n",
       "  <tbody>\n",
       "    <tr>\n",
       "      <th>0</th>\n",
       "      <td>ACEH</td>\n",
       "      <td>11237</td>\n",
       "      <td>449</td>\n",
       "      <td>9785</td>\n",
       "      <td>1003</td>\n",
       "    </tr>\n",
       "    <tr>\n",
       "      <th>1</th>\n",
       "      <td>BALI</td>\n",
       "      <td>44896</td>\n",
       "      <td>1231</td>\n",
       "      <td>41985</td>\n",
       "      <td>1680</td>\n",
       "    </tr>\n",
       "    <tr>\n",
       "      <th>2</th>\n",
       "      <td>BANTEN</td>\n",
       "      <td>47451</td>\n",
       "      <td>1207</td>\n",
       "      <td>44197</td>\n",
       "      <td>2047</td>\n",
       "    </tr>\n",
       "    <tr>\n",
       "      <th>3</th>\n",
       "      <td>BENGKULU</td>\n",
       "      <td>6959</td>\n",
       "      <td>173</td>\n",
       "      <td>5939</td>\n",
       "      <td>847</td>\n",
       "    </tr>\n",
       "    <tr>\n",
       "      <th>4</th>\n",
       "      <td>DIY</td>\n",
       "      <td>39824</td>\n",
       "      <td>965</td>\n",
       "      <td>35045</td>\n",
       "      <td>3814</td>\n",
       "    </tr>\n",
       "  </tbody>\n",
       "</table>\n",
       "</div>"
      ],
      "text/plain": [
       "   Province  Daily_Case  Daily_Death  Daily_Recovered  Daily_Active_Case\n",
       "0      ACEH       11237          449             9785               1003\n",
       "1      BALI       44896         1231            41985               1680\n",
       "2    BANTEN       47451         1207            44197               2047\n",
       "3  BENGKULU        6959          173             5939                847\n",
       "4       DIY       39824          965            35045               3814"
      ]
     },
     "execution_count": 9,
     "metadata": {},
     "output_type": "execute_result"
    }
   ],
   "source": [
    "df_daily.head()"
   ]
  },
  {
   "cell_type": "code",
   "execution_count": 10,
   "metadata": {},
   "outputs": [
    {
     "data": {
      "text/html": [
       "<div>\n",
       "<style scoped>\n",
       "    .dataframe tbody tr th:only-of-type {\n",
       "        vertical-align: middle;\n",
       "    }\n",
       "\n",
       "    .dataframe tbody tr th {\n",
       "        vertical-align: top;\n",
       "    }\n",
       "\n",
       "    .dataframe thead th {\n",
       "        text-align: right;\n",
       "    }\n",
       "</style>\n",
       "<table border=\"1\" class=\"dataframe\">\n",
       "  <thead>\n",
       "    <tr style=\"text-align: right;\">\n",
       "      <th></th>\n",
       "      <th>Province</th>\n",
       "      <th>Cumulative_Case</th>\n",
       "      <th>Cumulative_Recovered</th>\n",
       "      <th>Cumulative_Death</th>\n",
       "      <th>Cumulative_Active_Case</th>\n",
       "    </tr>\n",
       "  </thead>\n",
       "  <tbody>\n",
       "    <tr>\n",
       "      <th>0</th>\n",
       "      <td>ACEH</td>\n",
       "      <td>1995884</td>\n",
       "      <td>1537250</td>\n",
       "      <td>79429</td>\n",
       "      <td>379205</td>\n",
       "    </tr>\n",
       "    <tr>\n",
       "      <th>1</th>\n",
       "      <td>BALI</td>\n",
       "      <td>5689598</td>\n",
       "      <td>5100446</td>\n",
       "      <td>151968</td>\n",
       "      <td>437184</td>\n",
       "    </tr>\n",
       "    <tr>\n",
       "      <th>2</th>\n",
       "      <td>BANTEN</td>\n",
       "      <td>5276319</td>\n",
       "      <td>4847946</td>\n",
       "      <td>154955</td>\n",
       "      <td>273418</td>\n",
       "    </tr>\n",
       "    <tr>\n",
       "      <th>3</th>\n",
       "      <td>BENGKULU</td>\n",
       "      <td>804077</td>\n",
       "      <td>689618</td>\n",
       "      <td>26581</td>\n",
       "      <td>87878</td>\n",
       "    </tr>\n",
       "    <tr>\n",
       "      <th>4</th>\n",
       "      <td>DIY</td>\n",
       "      <td>3984843</td>\n",
       "      <td>3098072</td>\n",
       "      <td>95229</td>\n",
       "      <td>791542</td>\n",
       "    </tr>\n",
       "  </tbody>\n",
       "</table>\n",
       "</div>"
      ],
      "text/plain": [
       "   Province  Cumulative_Case  Cumulative_Recovered  Cumulative_Death  \\\n",
       "0      ACEH          1995884               1537250             79429   \n",
       "1      BALI          5689598               5100446            151968   \n",
       "2    BANTEN          5276319               4847946            154955   \n",
       "3  BENGKULU           804077                689618             26581   \n",
       "4       DIY          3984843               3098072             95229   \n",
       "\n",
       "   Cumulative_Active_Case  \n",
       "0                  379205  \n",
       "1                  437184  \n",
       "2                  273418  \n",
       "3                   87878  \n",
       "4                  791542  "
      ]
     },
     "execution_count": 10,
     "metadata": {},
     "output_type": "execute_result"
    }
   ],
   "source": [
    "df_cumulative.head()"
   ]
  },
  {
   "cell_type": "code",
   "execution_count": 11,
   "metadata": {},
   "outputs": [
    {
     "name": "stderr",
     "output_type": "stream",
     "text": [
      "<ipython-input-11-e6e9f460dc39>:3: SettingWithCopyWarning: \n",
      "A value is trying to be set on a copy of a slice from a DataFrame.\n",
      "Try using .loc[row_indexer,col_indexer] = value instead\n",
      "\n",
      "See the caveats in the documentation: https://pandas.pydata.org/pandas-docs/stable/user_guide/indexing.html#returning-a-view-versus-a-copy\n",
      "  df_daily[df_daily.columns[1:]] = minMaxScaler.fit_transform(df_daily[df_daily.columns[1:]])\n",
      "C:\\Users\\Bina Umat\\anaconda3\\lib\\site-packages\\pandas\\core\\indexing.py:966: SettingWithCopyWarning: \n",
      "A value is trying to be set on a copy of a slice from a DataFrame.\n",
      "Try using .loc[row_indexer,col_indexer] = value instead\n",
      "\n",
      "See the caveats in the documentation: https://pandas.pydata.org/pandas-docs/stable/user_guide/indexing.html#returning-a-view-versus-a-copy\n",
      "  self.obj[item] = s\n",
      "<ipython-input-11-e6e9f460dc39>:4: SettingWithCopyWarning: \n",
      "A value is trying to be set on a copy of a slice from a DataFrame.\n",
      "Try using .loc[row_indexer,col_indexer] = value instead\n",
      "\n",
      "See the caveats in the documentation: https://pandas.pydata.org/pandas-docs/stable/user_guide/indexing.html#returning-a-view-versus-a-copy\n",
      "  df_cumulative[df_cumulative.columns[1:]] = minMaxScaler.fit_transform(df_cumulative[df_cumulative.columns[1:]])\n",
      "C:\\Users\\Bina Umat\\anaconda3\\lib\\site-packages\\pandas\\core\\indexing.py:966: SettingWithCopyWarning: \n",
      "A value is trying to be set on a copy of a slice from a DataFrame.\n",
      "Try using .loc[row_indexer,col_indexer] = value instead\n",
      "\n",
      "See the caveats in the documentation: https://pandas.pydata.org/pandas-docs/stable/user_guide/indexing.html#returning-a-view-versus-a-copy\n",
      "  self.obj[item] = s\n"
     ]
    }
   ],
   "source": [
    "minMaxScaler = MinMaxScaler()\n",
    "\n",
    "df_daily[df_daily.columns[1:]] = minMaxScaler.fit_transform(df_daily[df_daily.columns[1:]])\n",
    "df_cumulative[df_cumulative.columns[1:]] = minMaxScaler.fit_transform(df_cumulative[df_cumulative.columns[1:]])"
   ]
  },
  {
   "cell_type": "code",
   "execution_count": 12,
   "metadata": {},
   "outputs": [
    {
     "data": {
      "text/html": [
       "<div>\n",
       "<style scoped>\n",
       "    .dataframe tbody tr th:only-of-type {\n",
       "        vertical-align: middle;\n",
       "    }\n",
       "\n",
       "    .dataframe tbody tr th {\n",
       "        vertical-align: top;\n",
       "    }\n",
       "\n",
       "    .dataframe thead th {\n",
       "        text-align: right;\n",
       "    }\n",
       "</style>\n",
       "<table border=\"1\" class=\"dataframe\">\n",
       "  <thead>\n",
       "    <tr style=\"text-align: right;\">\n",
       "      <th></th>\n",
       "      <th>Province</th>\n",
       "      <th>Daily_Case</th>\n",
       "      <th>Daily_Death</th>\n",
       "      <th>Daily_Recovered</th>\n",
       "      <th>Daily_Active_Case</th>\n",
       "    </tr>\n",
       "  </thead>\n",
       "  <tbody>\n",
       "    <tr>\n",
       "      <th>0</th>\n",
       "      <td>ACEH</td>\n",
       "      <td>0.016800</td>\n",
       "      <td>0.038076</td>\n",
       "      <td>0.014366</td>\n",
       "      <td>0.029755</td>\n",
       "    </tr>\n",
       "    <tr>\n",
       "      <th>1</th>\n",
       "      <td>BALI</td>\n",
       "      <td>0.099715</td>\n",
       "      <td>0.111413</td>\n",
       "      <td>0.096413</td>\n",
       "      <td>0.051917</td>\n",
       "    </tr>\n",
       "    <tr>\n",
       "      <th>2</th>\n",
       "      <td>BANTEN</td>\n",
       "      <td>0.106009</td>\n",
       "      <td>0.109163</td>\n",
       "      <td>0.102049</td>\n",
       "      <td>0.063930</td>\n",
       "    </tr>\n",
       "    <tr>\n",
       "      <th>3</th>\n",
       "      <td>BENGKULU</td>\n",
       "      <td>0.006262</td>\n",
       "      <td>0.012192</td>\n",
       "      <td>0.004566</td>\n",
       "      <td>0.024649</td>\n",
       "    </tr>\n",
       "    <tr>\n",
       "      <th>4</th>\n",
       "      <td>DIY</td>\n",
       "      <td>0.087221</td>\n",
       "      <td>0.086467</td>\n",
       "      <td>0.078729</td>\n",
       "      <td>0.121772</td>\n",
       "    </tr>\n",
       "  </tbody>\n",
       "</table>\n",
       "</div>"
      ],
      "text/plain": [
       "   Province  Daily_Case  Daily_Death  Daily_Recovered  Daily_Active_Case\n",
       "0      ACEH    0.016800     0.038076         0.014366           0.029755\n",
       "1      BALI    0.099715     0.111413         0.096413           0.051917\n",
       "2    BANTEN    0.106009     0.109163         0.102049           0.063930\n",
       "3  BENGKULU    0.006262     0.012192         0.004566           0.024649\n",
       "4       DIY    0.087221     0.086467         0.078729           0.121772"
      ]
     },
     "execution_count": 12,
     "metadata": {},
     "output_type": "execute_result"
    }
   ],
   "source": [
    "df_daily.head()"
   ]
  },
  {
   "cell_type": "code",
   "execution_count": 13,
   "metadata": {},
   "outputs": [
    {
     "data": {
      "text/html": [
       "<div>\n",
       "<style scoped>\n",
       "    .dataframe tbody tr th:only-of-type {\n",
       "        vertical-align: middle;\n",
       "    }\n",
       "\n",
       "    .dataframe tbody tr th {\n",
       "        vertical-align: top;\n",
       "    }\n",
       "\n",
       "    .dataframe thead th {\n",
       "        text-align: right;\n",
       "    }\n",
       "</style>\n",
       "<table border=\"1\" class=\"dataframe\">\n",
       "  <thead>\n",
       "    <tr style=\"text-align: right;\">\n",
       "      <th></th>\n",
       "      <th>Province</th>\n",
       "      <th>Cumulative_Case</th>\n",
       "      <th>Cumulative_Recovered</th>\n",
       "      <th>Cumulative_Death</th>\n",
       "      <th>Cumulative_Active_Case</th>\n",
       "    </tr>\n",
       "  </thead>\n",
       "  <tbody>\n",
       "    <tr>\n",
       "      <th>0</th>\n",
       "      <td>ACEH</td>\n",
       "      <td>0.023908</td>\n",
       "      <td>0.019741</td>\n",
       "      <td>0.041305</td>\n",
       "      <td>0.056213</td>\n",
       "    </tr>\n",
       "    <tr>\n",
       "      <th>1</th>\n",
       "      <td>BALI</td>\n",
       "      <td>0.092415</td>\n",
       "      <td>0.091880</td>\n",
       "      <td>0.081966</td>\n",
       "      <td>0.066764</td>\n",
       "    </tr>\n",
       "    <tr>\n",
       "      <th>2</th>\n",
       "      <td>BANTEN</td>\n",
       "      <td>0.084750</td>\n",
       "      <td>0.086768</td>\n",
       "      <td>0.083640</td>\n",
       "      <td>0.036962</td>\n",
       "    </tr>\n",
       "    <tr>\n",
       "      <th>3</th>\n",
       "      <td>BENGKULU</td>\n",
       "      <td>0.001804</td>\n",
       "      <td>0.002580</td>\n",
       "      <td>0.011682</td>\n",
       "      <td>0.003198</td>\n",
       "    </tr>\n",
       "    <tr>\n",
       "      <th>4</th>\n",
       "      <td>DIY</td>\n",
       "      <td>0.060797</td>\n",
       "      <td>0.051341</td>\n",
       "      <td>0.050161</td>\n",
       "      <td>0.131251</td>\n",
       "    </tr>\n",
       "  </tbody>\n",
       "</table>\n",
       "</div>"
      ],
      "text/plain": [
       "   Province  Cumulative_Case  Cumulative_Recovered  Cumulative_Death  \\\n",
       "0      ACEH         0.023908              0.019741          0.041305   \n",
       "1      BALI         0.092415              0.091880          0.081966   \n",
       "2    BANTEN         0.084750              0.086768          0.083640   \n",
       "3  BENGKULU         0.001804              0.002580          0.011682   \n",
       "4       DIY         0.060797              0.051341          0.050161   \n",
       "\n",
       "   Cumulative_Active_Case  \n",
       "0                0.056213  \n",
       "1                0.066764  \n",
       "2                0.036962  \n",
       "3                0.003198  \n",
       "4                0.131251  "
      ]
     },
     "execution_count": 13,
     "metadata": {},
     "output_type": "execute_result"
    }
   ],
   "source": [
    "df_cumulative.head()"
   ]
  },
  {
   "cell_type": "code",
   "execution_count": 14,
   "metadata": {},
   "outputs": [],
   "source": [
    "kmeans_daily = KMeans(n_clusters=5, random_state=42)\n",
    "kmeans_cumulative = KMeans(n_clusters=5, random_state=42)"
   ]
  },
  {
   "cell_type": "code",
   "execution_count": 15,
   "metadata": {},
   "outputs": [
    {
     "data": {
      "text/plain": [
       "KMeans(n_clusters=5, random_state=42)"
      ]
     },
     "execution_count": 15,
     "metadata": {},
     "output_type": "execute_result"
    }
   ],
   "source": [
    "kmeans_daily.fit(df_daily[df_daily.columns[1:]])\n",
    "kmeans_cumulative.fit(df_cumulative[df_cumulative.columns[1:]])"
   ]
  },
  {
   "cell_type": "code",
   "execution_count": 16,
   "metadata": {},
   "outputs": [
    {
     "data": {
      "text/plain": [
       "-0.18888181403810547"
      ]
     },
     "execution_count": 16,
     "metadata": {},
     "output_type": "execute_result"
    }
   ],
   "source": [
    "kmeans_daily.score(df_daily[df_daily.columns[1:]])"
   ]
  },
  {
   "cell_type": "code",
   "execution_count": 17,
   "metadata": {},
   "outputs": [
    {
     "data": {
      "text/plain": [
       "-0.1814180734985303"
      ]
     },
     "execution_count": 17,
     "metadata": {},
     "output_type": "execute_result"
    }
   ],
   "source": [
    "kmeans_cumulative.score(df_cumulative[df_cumulative.columns[1:]])"
   ]
  },
  {
   "cell_type": "code",
   "execution_count": 18,
   "metadata": {},
   "outputs": [],
   "source": [
    "score_daily = []\n",
    "score_cumulative = []\n",
    "\n",
    "for i in range(1, 20):\n",
    "    kmeans_daily = KMeans(n_clusters=i, random_state=42)\n",
    "    kmeans_daily.fit(df_daily[df_daily.columns[1:]])\n",
    "    score_daily.append(kmeans_daily.score(df_daily[df_daily.columns[1:]]))\n",
    "    \n",
    "    kmeans_cumulative = KMeans(n_clusters=i)\n",
    "    kmeans_cumulative.fit(df_cumulative[df_cumulative.columns[1:]])\n",
    "    score_cumulative.append(kmeans_cumulative.score(df_cumulative[df_cumulative.columns[1:]]))"
   ]
  },
  {
   "cell_type": "code",
   "execution_count": 19,
   "metadata": {},
   "outputs": [
    {
     "data": {
      "image/png": "[encoded data removed]",
      "text/plain": [
       "<Figure size 1080x648 with 2 Axes>"
      ]
     },
     "metadata": {
      "needs_background": "light"
     },
     "output_type": "display_data"
    }
   ],
   "source": [
    "fig, ax = plt.subplots(figsize=(15, 9), nrows=2)\n",
    "\n",
    "ax[0].plot(score_daily)\n",
    "ax[1].plot(score_cumulative)\n",
    "\n",
    "ax[0].set_xlabel(\"\")\n",
    "ax[1].set_xlabel(\"\")\n",
    "\n",
    "ax[0].set_title(\"Elbow Method of df daily\")\n",
    "ax[1].set_title(\"Elbow Method of df cumulative\")\n",
    "\n",
    "plt.show()"
   ]
  },
  {
   "cell_type": "code",
   "execution_count": 20,
   "metadata": {},
   "outputs": [
    {
     "data": {
      "text/plain": [
       "KMeans(n_clusters=2, random_state=42)"
      ]
     },
     "execution_count": 20,
     "metadata": {},
     "output_type": "execute_result"
    }
   ],
   "source": [
    "kmeans_daily = KMeans(n_clusters=2, random_state=42)\n",
    "kmeans_cumulative = KMeans(n_clusters=2, random_state=42)\n",
    "\n",
    "kmeans_daily.fit(df_daily[df_daily.columns[1:]])\n",
    "kmeans_cumulative.fit(df_cumulative[df_cumulative.columns[1:]])"
   ]
  },
  {
   "cell_type": "code",
   "execution_count": 21,
   "metadata": {},
   "outputs": [
    {
     "name": "stderr",
     "output_type": "stream",
     "text": [
      "<ipython-input-21-6dd967311c3b>:1: SettingWithCopyWarning: \n",
      "A value is trying to be set on a copy of a slice from a DataFrame.\n",
      "Try using .loc[row_indexer,col_indexer] = value instead\n",
      "\n",
      "See the caveats in the documentation: https://pandas.pydata.org/pandas-docs/stable/user_guide/indexing.html#returning-a-view-versus-a-copy\n",
      "  df_daily[\"Cluster\"] = kmeans_daily.labels_\n",
      "<ipython-input-21-6dd967311c3b>:2: SettingWithCopyWarning: \n",
      "A value is trying to be set on a copy of a slice from a DataFrame.\n",
      "Try using .loc[row_indexer,col_indexer] = value instead\n",
      "\n",
      "See the caveats in the documentation: https://pandas.pydata.org/pandas-docs/stable/user_guide/indexing.html#returning-a-view-versus-a-copy\n",
      "  df_cumulative[\"Cluster\"] = kmeans_cumulative.labels_\n"
     ]
    }
   ],
   "source": [
    "df_daily[\"Cluster\"] = kmeans_daily.labels_\n",
    "df_cumulative[\"Cluster\"] = kmeans_cumulative.labels_"
   ]
  },
  {
   "cell_type": "code",
   "execution_count": 22,
   "metadata": {},
   "outputs": [
    {
     "data": {
      "text/html": [
       "<div>\n",
       "<style scoped>\n",
       "    .dataframe tbody tr th:only-of-type {\n",
       "        vertical-align: middle;\n",
       "    }\n",
       "\n",
       "    .dataframe tbody tr th {\n",
       "        vertical-align: top;\n",
       "    }\n",
       "\n",
       "    .dataframe thead th {\n",
       "        text-align: right;\n",
       "    }\n",
       "</style>\n",
       "<table border=\"1\" class=\"dataframe\">\n",
       "  <thead>\n",
       "    <tr style=\"text-align: right;\">\n",
       "      <th></th>\n",
       "      <th>Province</th>\n",
       "      <th>Daily_Case</th>\n",
       "      <th>Daily_Death</th>\n",
       "      <th>Daily_Recovered</th>\n",
       "      <th>Daily_Active_Case</th>\n",
       "      <th>Cluster</th>\n",
       "    </tr>\n",
       "  </thead>\n",
       "  <tbody>\n",
       "    <tr>\n",
       "      <th>0</th>\n",
       "      <td>ACEH</td>\n",
       "      <td>0.016800</td>\n",
       "      <td>0.038076</td>\n",
       "      <td>0.014366</td>\n",
       "      <td>0.029755</td>\n",
       "      <td>0</td>\n",
       "    </tr>\n",
       "    <tr>\n",
       "      <th>1</th>\n",
       "      <td>BALI</td>\n",
       "      <td>0.099715</td>\n",
       "      <td>0.111413</td>\n",
       "      <td>0.096413</td>\n",
       "      <td>0.051917</td>\n",
       "      <td>0</td>\n",
       "    </tr>\n",
       "    <tr>\n",
       "      <th>2</th>\n",
       "      <td>BANTEN</td>\n",
       "      <td>0.106009</td>\n",
       "      <td>0.109163</td>\n",
       "      <td>0.102049</td>\n",
       "      <td>0.063930</td>\n",
       "      <td>0</td>\n",
       "    </tr>\n",
       "    <tr>\n",
       "      <th>3</th>\n",
       "      <td>BENGKULU</td>\n",
       "      <td>0.006262</td>\n",
       "      <td>0.012192</td>\n",
       "      <td>0.004566</td>\n",
       "      <td>0.024649</td>\n",
       "      <td>0</td>\n",
       "    </tr>\n",
       "    <tr>\n",
       "      <th>4</th>\n",
       "      <td>DIY</td>\n",
       "      <td>0.087221</td>\n",
       "      <td>0.086467</td>\n",
       "      <td>0.078729</td>\n",
       "      <td>0.121772</td>\n",
       "      <td>0</td>\n",
       "    </tr>\n",
       "  </tbody>\n",
       "</table>\n",
       "</div>"
      ],
      "text/plain": [
       "   Province  Daily_Case  Daily_Death  Daily_Recovered  Daily_Active_Case  \\\n",
       "0      ACEH    0.016800     0.038076         0.014366           0.029755   \n",
       "1      BALI    0.099715     0.111413         0.096413           0.051917   \n",
       "2    BANTEN    0.106009     0.109163         0.102049           0.063930   \n",
       "3  BENGKULU    0.006262     0.012192         0.004566           0.024649   \n",
       "4       DIY    0.087221     0.086467         0.078729           0.121772   \n",
       "\n",
       "   Cluster  \n",
       "0        0  \n",
       "1        0  \n",
       "2        0  \n",
       "3        0  \n",
       "4        0  "
      ]
     },
     "execution_count": 22,
     "metadata": {},
     "output_type": "execute_result"
    }
   ],
   "source": [
    "df_daily.head()"
   ]
  },
  {
   "cell_type": "code",
   "execution_count": 23,
   "metadata": {},
   "outputs": [
    {
     "data": {
      "text/html": [
       "<div>\n",
       "<style scoped>\n",
       "    .dataframe tbody tr th:only-of-type {\n",
       "        vertical-align: middle;\n",
       "    }\n",
       "\n",
       "    .dataframe tbody tr th {\n",
       "        vertical-align: top;\n",
       "    }\n",
       "\n",
       "    .dataframe thead th {\n",
       "        text-align: right;\n",
       "    }\n",
       "</style>\n",
       "<table border=\"1\" class=\"dataframe\">\n",
       "  <thead>\n",
       "    <tr style=\"text-align: right;\">\n",
       "      <th></th>\n",
       "      <th>Province</th>\n",
       "      <th>Cumulative_Case</th>\n",
       "      <th>Cumulative_Recovered</th>\n",
       "      <th>Cumulative_Death</th>\n",
       "      <th>Cumulative_Active_Case</th>\n",
       "      <th>Cluster</th>\n",
       "    </tr>\n",
       "  </thead>\n",
       "  <tbody>\n",
       "    <tr>\n",
       "      <th>0</th>\n",
       "      <td>ACEH</td>\n",
       "      <td>0.023908</td>\n",
       "      <td>0.019741</td>\n",
       "      <td>0.041305</td>\n",
       "      <td>0.056213</td>\n",
       "      <td>0</td>\n",
       "    </tr>\n",
       "    <tr>\n",
       "      <th>1</th>\n",
       "      <td>BALI</td>\n",
       "      <td>0.092415</td>\n",
       "      <td>0.091880</td>\n",
       "      <td>0.081966</td>\n",
       "      <td>0.066764</td>\n",
       "      <td>0</td>\n",
       "    </tr>\n",
       "    <tr>\n",
       "      <th>2</th>\n",
       "      <td>BANTEN</td>\n",
       "      <td>0.084750</td>\n",
       "      <td>0.086768</td>\n",
       "      <td>0.083640</td>\n",
       "      <td>0.036962</td>\n",
       "      <td>0</td>\n",
       "    </tr>\n",
       "    <tr>\n",
       "      <th>3</th>\n",
       "      <td>BENGKULU</td>\n",
       "      <td>0.001804</td>\n",
       "      <td>0.002580</td>\n",
       "      <td>0.011682</td>\n",
       "      <td>0.003198</td>\n",
       "      <td>0</td>\n",
       "    </tr>\n",
       "    <tr>\n",
       "      <th>4</th>\n",
       "      <td>DIY</td>\n",
       "      <td>0.060797</td>\n",
       "      <td>0.051341</td>\n",
       "      <td>0.050161</td>\n",
       "      <td>0.131251</td>\n",
       "      <td>0</td>\n",
       "    </tr>\n",
       "  </tbody>\n",
       "</table>\n",
       "</div>"
      ],
      "text/plain": [
       "   Province  Cumulative_Case  Cumulative_Recovered  Cumulative_Death  \\\n",
       "0      ACEH         0.023908              0.019741          0.041305   \n",
       "1      BALI         0.092415              0.091880          0.081966   \n",
       "2    BANTEN         0.084750              0.086768          0.083640   \n",
       "3  BENGKULU         0.001804              0.002580          0.011682   \n",
       "4       DIY         0.060797              0.051341          0.050161   \n",
       "\n",
       "   Cumulative_Active_Case  Cluster  \n",
       "0                0.056213        0  \n",
       "1                0.066764        0  \n",
       "2                0.036962        0  \n",
       "3                0.003198        0  \n",
       "4                0.131251        0  "
      ]
     },
     "execution_count": 23,
     "metadata": {},
     "output_type": "execute_result"
    }
   ],
   "source": [
    "df_cumulative.head()"
   ]
  },
  {
   "cell_type": "code",
   "execution_count": 24,
   "metadata": {},
   "outputs": [
    {
     "data": {
      "image/png": "[encoded data removed]",
      "text/plain": [
       "<Figure size 1080x648 with 2 Axes>"
      ]
     },
     "metadata": {
      "needs_background": "light"
     },
     "output_type": "display_data"
    }
   ],
   "source": [
    "fig, ax = plt.subplots(figsize=(15, 9), nrows=2)\n",
    "\n",
    "sns.countplot(data=df_daily, x=\"Cluster\", ax=ax[0])\n",
    "sns.countplot(data=df_cumulative, x=\"Cluster\", ax=ax[1])\n",
    "\n",
    "for i in range(2):\n",
    "    ax[i].set_xlabel(\"\")\n",
    "\n",
    "ax[0].set_title(\"Plot of cluster df daily\")\n",
    "ax[1].set_title(\"Plot of cluster df cumulative\")\n",
    "\n",
    "plt.show()"
   ]
  },
  {
   "cell_type": "code",
   "execution_count": 25,
   "metadata": {},
   "outputs": [
    {
     "data": {
      "text/plain": [
       "<seaborn.axisgrid.PairGrid at 0x2653d5c55e0>"
      ]
     },
     "execution_count": 25,
     "metadata": {},
     "output_type": "execute_result"
    },
    {
     "data": {
      "image/png": "[encoded data removed]",
      "text/plain": [
       "<Figure size 763.5x720 with 20 Axes>"
      ]
     },
     "metadata": {
      "needs_background": "light"
     },
     "output_type": "display_data"
    }
   ],
   "source": [
    "sns.pairplot(df_daily[df_daily.columns[1:]], hue=\"Cluster\", kind=\"scatter\", palette=\"tab10\")"
   ]
  },
  {
   "cell_type": "code",
   "execution_count": 26,
   "metadata": {},
   "outputs": [
    {
     "data": {
      "text/plain": [
       "<seaborn.axisgrid.PairGrid at 0x2653d247280>"
      ]
     },
     "execution_count": 26,
     "metadata": {},
     "output_type": "execute_result"
    },
    {
     "data": {
      "image/png": "[encoded data removed]",
      "text/plain": [
       "<Figure size 763.5x720 with 20 Axes>"
      ]
     },
     "metadata": {
      "needs_background": "light"
     },
     "output_type": "display_data"
    }
   ],
   "source": [
    "sns.pairplot(df_cumulative[df_cumulative.columns[1:]], hue=\"Cluster\", kind=\"scatter\", palette=\"tab10\")"
   ]
  },
  {
   "cell_type": "code",
   "execution_count": 33,
   "metadata": {},
   "outputs": [
    {
     "data": {
      "text/plain": [
       "MultiIndex([(0,                      'ACEH'),\n",
       "            (0,                      'BALI'),\n",
       "            (0,                    'BANTEN'),\n",
       "            (0,                  'BENGKULU'),\n",
       "            (0,                       'DIY'),\n",
       "            (0,                 'GORONTALO'),\n",
       "            (0,                     'JAMBI'),\n",
       "            (0,          'KALIMANTAN BARAT'),\n",
       "            (0,        'KALIMANTAN SELATAN'),\n",
       "            (0,         'KALIMANTAN TENGAH'),\n",
       "            (0,          'KALIMANTAN TIMUR'),\n",
       "            (0,          'KALIMANTAN UTARA'),\n",
       "            (0, 'KEPULAUAN BANGKA BELITUNG'),\n",
       "            (0,            'KEPULAUAN RIAU'),\n",
       "            (0,                   'LAMPUNG'),\n",
       "            (0,                    'MALUKU'),\n",
       "            (0,              'MALUKU UTARA'),\n",
       "            (0,       'NUSA TENGGARA BARAT'),\n",
       "            (0,       'NUSA TENGGARA TIMUR'),\n",
       "            (0,                     'PAPUA'),\n",
       "            (0,               'PAPUA BARAT'),\n",
       "            (0,                      'RIAU'),\n",
       "            (0,            'SULAWESI BARAT'),\n",
       "            (0,          'SULAWESI SELATAN'),\n",
       "            (0,           'SULAWESI TENGAH'),\n",
       "            (0,         'SULAWESI TENGGARA'),\n",
       "            (0,            'SULAWESI UTARA'),\n",
       "            (0,            'SUMATERA BARAT'),\n",
       "            (0,          'SUMATERA SELATAN'),\n",
       "            (0,            'SUMATERA UTARA'),\n",
       "            (1,                       'DKI'),\n",
       "            (1,                     'JABAR'),\n",
       "            (1,                    'JATENG'),\n",
       "            (1,                     'JATIM')],\n",
       "           names=['Cluster', 'Province'])"
      ]
     },
     "execution_count": 33,
     "metadata": {},
     "output_type": "execute_result"
    }
   ],
   "source": [
    "df_daily.groupby([\"Cluster\", \"Province\"])[[\"Province\"]].count().index"
   ]
  },
  {
   "cell_type": "code",
   "execution_count": 37,
   "metadata": {},
   "outputs": [
    {
     "data": {
      "text/plain": [
       "MultiIndex([(0,                      'ACEH'),\n",
       "            (0,                      'BALI'),\n",
       "            (0,                    'BANTEN'),\n",
       "            (0,                  'BENGKULU'),\n",
       "            (0,                       'DIY'),\n",
       "            (0,                 'GORONTALO'),\n",
       "            (0,                     'JAMBI'),\n",
       "            (0,          'KALIMANTAN BARAT'),\n",
       "            (0,        'KALIMANTAN SELATAN'),\n",
       "            (0,         'KALIMANTAN TENGAH'),\n",
       "            (0,          'KALIMANTAN TIMUR'),\n",
       "            (0,          'KALIMANTAN UTARA'),\n",
       "            (0, 'KEPULAUAN BANGKA BELITUNG'),\n",
       "            (0,            'KEPULAUAN RIAU'),\n",
       "            (0,                   'LAMPUNG'),\n",
       "            (0,                    'MALUKU'),\n",
       "            (0,              'MALUKU UTARA'),\n",
       "            (0,       'NUSA TENGGARA BARAT'),\n",
       "            (0,       'NUSA TENGGARA TIMUR'),\n",
       "            (0,                     'PAPUA'),\n",
       "            (0,               'PAPUA BARAT'),\n",
       "            (0,                      'RIAU'),\n",
       "            (0,            'SULAWESI BARAT'),\n",
       "            (0,          'SULAWESI SELATAN'),\n",
       "            (0,           'SULAWESI TENGAH'),\n",
       "            (0,         'SULAWESI TENGGARA'),\n",
       "            (0,            'SULAWESI UTARA'),\n",
       "            (0,            'SUMATERA BARAT'),\n",
       "            (0,          'SUMATERA SELATAN'),\n",
       "            (0,            'SUMATERA UTARA'),\n",
       "            (1,                       'DKI'),\n",
       "            (1,                     'JABAR'),\n",
       "            (1,                    'JATENG'),\n",
       "            (1,                     'JATIM')],\n",
       "           names=['Cluster', 'Province'])"
      ]
     },
     "execution_count": 37,
     "metadata": {},
     "output_type": "execute_result"
    }
   ],
   "source": [
    "df_cumulative.groupby([\"Cluster\",\"Province\"])[[\"Province\"]].count().index"
   ]
  },
  {
   "cell_type": "code",
   "execution_count": 48,
   "metadata": {},
   "outputs": [
    {
     "name": "stdout",
     "output_type": "stream",
     "text": [
      "Province that belong to cluster 0 : ['ACEH', 'BALI', 'BANTEN', 'BENGKULU']\n",
      "Province that belong to cluster 1 : ['DKI', 'JABAR', 'JATENG', 'JATIM']\n"
     ]
    }
   ],
   "source": [
    "cluster_province_daily = df_daily.groupby([\"Cluster\", \"Province\"])[[\"Province\"]].count().index\n",
    "\n",
    "cluster_0 = []\n",
    "cluster_1 = []\n",
    "\n",
    "for cluster in cluster_province_daily:\n",
    "    if cluster[0] == 0:\n",
    "        cluster_0.append(cluster[1])\n",
    "    else:\n",
    "        cluster_1.append(cluster[1])\n",
    "        \n",
    "print(f\"Province that belong to cluster 0 : {cluster_0[:4]}\")\n",
    "print(f\"Province that belong to cluster 1 : {cluster_1[:4]}\")"
   ]
  },
  {
   "cell_type": "code",
   "execution_count": 49,
   "metadata": {},
   "outputs": [
    {
     "name": "stdout",
     "output_type": "stream",
     "text": [
      "Province that belong to cluster 0 : ['ACEH', 'BALI', 'BANTEN', 'BENGKULU']\n",
      "Province that belong to cluster 1 : ['DKI', 'JABAR', 'JATENG', 'JATIM']\n"
     ]
    }
   ],
   "source": [
    "cluster_province_cumulative = df_cumulative.groupby([\"Cluster\", \"Province\"])[[\"Province\"]].count().index\n",
    "\n",
    "cluster_0 = []\n",
    "cluster_1 = []\n",
    "\n",
    "for cluster in cluster_province_cumulative:\n",
    "    if cluster[0] == 0:\n",
    "        cluster_0.append(cluster[1])\n",
    "    else:\n",
    "        cluster_1.append(cluster[1])\n",
    "        \n",
    "print(f\"Province that belong to cluster 0 : {cluster_0[:4]}\")\n",
    "print(f\"Province that belong to cluster 1 : {cluster_1[:4]}\")"
   ]
  },
  {
   "cell_type": "markdown",
   "metadata": {},
   "source": [
    "# Conclusion\n",
    "\n",
    "In this clustering we know that four provinces in daily features are belong to cluster 1 are ['DKI', 'JABAR', 'JATENG', 'JATIM'] and the rest of provinces are belong to cluster 0 such as ['ACEH', 'BALI', 'BANTEN', 'BENGKULU'], and also that four provinces in cumulative features are belong to cluster 1 are ['DKI', 'JABAR', 'JATENG', 'JATIM'] and the rest of provinces are belong to cluster 0 such as ['ACEH', 'BALI', 'BANTEN', 'BENGKULU']"
   ]
  }
 ],
 "metadata": {
  "kernelspec": {
   "display_name": "Python 3",
   "language": "python",
   "name": "python3"
  },
  "language_info": {
   "codemirror_mode": {
    "name": "ipython",
    "version": 3
   },
   "file_extension": ".py",
   "mimetype": "text/x-python",
   "name": "python",
   "nbconvert_exporter": "python",
   "pygments_lexer": "ipython3",
   "version": "3.8.3"
  }
 },
 "nbformat": 4,
 "nbformat_minor": 4
}
